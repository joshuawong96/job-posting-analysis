{
 "cells": [
  {
   "cell_type": "code",
   "execution_count": null,
   "id": "e4bb21d0",
   "metadata": {},
   "outputs": [],
   "source": [
    "import pandas as pd\n",
    "import os \n",
    "import numpy as np\n",
    "import re"
   ]
  },
  {
   "cell_type": "code",
   "execution_count": null,
   "id": "627f8f08",
   "metadata": {},
   "outputs": [],
   "source": [
    "directory = os. chdir(\"../data/MonsterSg\")\n",
    "files = os.listdir(\".\")\n",
    "files"
   ]
  },
  {
   "cell_type": "code",
   "execution_count": null,
   "id": "255fdfaa",
   "metadata": {},
   "outputs": [],
   "source": [
    "# get all relevant files in df\n",
    "relevant_csv = [x for x in files if 'Cloud_MonsterSg' in x]\n",
    "relevant_csv"
   ]
  },
  {
   "cell_type": "code",
   "execution_count": null,
   "id": "fb9ba863",
   "metadata": {
    "scrolled": true
   },
   "outputs": [],
   "source": [
    "# Combine all csv\n",
    "df = pd.concat(map(pd.read_csv, relevant_csv), ignore_index=True, axis=0)\n",
    "df"
   ]
  },
  {
   "cell_type": "code",
   "execution_count": null,
   "id": "65f53305",
   "metadata": {},
   "outputs": [],
   "source": [
    "df.columns"
   ]
  },
  {
   "cell_type": "markdown",
   "id": "c769fe9c",
   "metadata": {},
   "source": [
    "# Drop NA and duplicates"
   ]
  },
  {
   "cell_type": "code",
   "execution_count": null,
   "id": "a97b86b1",
   "metadata": {
    "scrolled": true
   },
   "outputs": [],
   "source": [
    "'''\n",
    "As Monster may direct users to the job posting in the company's website, the website format is different from Monster. \n",
    "Hence, data could not be scrapped for those job posting.\n",
    "'''\n",
    "\n",
    "# Drop job postings that are not from Monster\n",
    "df.dropna(subset=[['salary', 'job_type', 'years_experience', 'tech_stack', 'job_description', 'industry', 'function', 'roles',\n",
    "                   'last_updated', 'posted_on']], how=all, inplace=True)\n",
    "df"
   ]
  },
  {
   "cell_type": "code",
   "execution_count": null,
   "id": "762f1080",
   "metadata": {},
   "outputs": [],
   "source": [
    "df.info()"
   ]
  },
  {
   "cell_type": "code",
   "execution_count": null,
   "id": "5a1c3614",
   "metadata": {
    "scrolled": true
   },
   "outputs": [],
   "source": [
    "# postings without job_description\n",
    "df[df['job_description'].isna()]"
   ]
  },
  {
   "cell_type": "code",
   "execution_count": null,
   "id": "34c0b4b8",
   "metadata": {
    "scrolled": true
   },
   "outputs": [],
   "source": [
    "'''\n",
    "Companies may post the same job a few times over a period of time\n",
    "'''\n",
    "\n",
    "# drop duplicates \n",
    "df.drop_duplicates(subset=['job_title', 'company'], inplace=True)\n",
    "df"
   ]
  },
  {
   "cell_type": "markdown",
   "id": "9c361439",
   "metadata": {},
   "source": [
    "# Salary\n",
    "Convert to list(int) --> [lower, upper]"
   ]
  },
  {
   "cell_type": "code",
   "execution_count": null,
   "id": "19a41cfe",
   "metadata": {},
   "outputs": [],
   "source": [
    "# Check different types of data\n",
    "\n",
    "# df['salary'].unique()"
   ]
  },
  {
   "cell_type": "code",
   "execution_count": null,
   "id": "df4b7f5c",
   "metadata": {},
   "outputs": [],
   "source": [
    "def clean_salary(salary):        \n",
    "    if salary == 'Not Specified' or salary == 'nan':\n",
    "        return np.nan\n",
    "    else: \n",
    "        salary = re.sub(\"[a-zA-Z]\", \"\", salary)\n",
    "        salary_range = salary.strip().split('-')\n",
    "        return salary_range"
   ]
  },
  {
   "cell_type": "code",
   "execution_count": null,
   "id": "cec551c7",
   "metadata": {
    "scrolled": true
   },
   "outputs": [],
   "source": [
    "df['salary'] = df['salary'].apply(lambda x: clean_salary(str(x)))\n",
    "df"
   ]
  },
  {
   "cell_type": "markdown",
   "id": "7d880248",
   "metadata": {},
   "source": [
    "# Years of Experience\n",
    "Convert to list(int) --> [lower, upper]"
   ]
  },
  {
   "cell_type": "code",
   "execution_count": null,
   "id": "c5d151d8",
   "metadata": {
    "scrolled": false
   },
   "outputs": [],
   "source": [
    "# Check different types of data\n",
    "\n",
    "# df['years_experience'].unique()"
   ]
  },
  {
   "cell_type": "code",
   "execution_count": null,
   "id": "d9bbca15",
   "metadata": {},
   "outputs": [],
   "source": [
    "def clean_yr_exp(yr_exp):        \n",
    "    if yr_exp == 'Not Specified' or yr_exp == 'nan':\n",
    "        return np.nan\n",
    "    elif yr_exp == 'Fresher':\n",
    "        return [0,0]\n",
    "    else: \n",
    "        yr_exp = yr_exp.split()[0]\n",
    "        yr_exp_range = yr_exp.strip().split('-')\n",
    "        return yr_exp_range"
   ]
  },
  {
   "cell_type": "code",
   "execution_count": null,
   "id": "6946f739",
   "metadata": {
    "scrolled": true
   },
   "outputs": [],
   "source": [
    "df['years_experience'] = df['years_experience'].apply(lambda x: clean_yr_exp(str(x)))\n",
    "df"
   ]
  },
  {
   "cell_type": "markdown",
   "id": "3335be9e",
   "metadata": {},
   "source": [
    "# Tech Stack\n",
    "Convert to list"
   ]
  },
  {
   "cell_type": "code",
   "execution_count": null,
   "id": "b15cb9ff",
   "metadata": {},
   "outputs": [],
   "source": [
    "# Check different types of data\n",
    "\n",
    "# df['tech_stack'][0]"
   ]
  },
  {
   "cell_type": "code",
   "execution_count": null,
   "id": "a4a2d6c7",
   "metadata": {},
   "outputs": [],
   "source": [
    "def clean_tech_stack(tech_stack):\n",
    "    if tech_stack == 'nan': \n",
    "        return np.nan\n",
    "    else:\n",
    "        return tech_stack.split('  ')"
   ]
  },
  {
   "cell_type": "code",
   "execution_count": null,
   "id": "12882f0b",
   "metadata": {
    "scrolled": true
   },
   "outputs": [],
   "source": [
    "df['tech_stack'] = df['tech_stack'].apply(lambda x: clean_tech_stack(str(x)))\n",
    "df"
   ]
  },
  {
   "cell_type": "markdown",
   "id": "345e84e2",
   "metadata": {},
   "source": [
    "# Industry& functions\n",
    "Convert to list"
   ]
  },
  {
   "cell_type": "code",
   "execution_count": null,
   "id": "1e988e40",
   "metadata": {
    "scrolled": true
   },
   "outputs": [],
   "source": [
    "# df['industry'].unique()"
   ]
  },
  {
   "cell_type": "code",
   "execution_count": null,
   "id": "018db2d2",
   "metadata": {},
   "outputs": [],
   "source": [
    "# df['function'].unique()"
   ]
  },
  {
   "cell_type": "code",
   "execution_count": null,
   "id": "23659394",
   "metadata": {},
   "outputs": [],
   "source": [
    "def str_to_list(text):\n",
    "    if text == 'nan': \n",
    "        return np.nan\n",
    "    else:\n",
    "        return text.split(' , ')"
   ]
  },
  {
   "cell_type": "code",
   "execution_count": null,
   "id": "818ead20",
   "metadata": {
    "scrolled": true
   },
   "outputs": [],
   "source": [
    "df['industry'] = df['industry'].apply(lambda x: str_to_list(str(x)))\n",
    "df"
   ]
  },
  {
   "cell_type": "code",
   "execution_count": null,
   "id": "1eddd392",
   "metadata": {
    "scrolled": true
   },
   "outputs": [],
   "source": [
    "df['function'] = df['function'].apply(lambda x: str_to_list(str(x)))\n",
    "df"
   ]
  },
  {
   "cell_type": "markdown",
   "id": "e019457e",
   "metadata": {},
   "source": [
    "# Roles\n",
    "Convert to list"
   ]
  },
  {
   "cell_type": "code",
   "execution_count": null,
   "id": "6f1a9fe3",
   "metadata": {},
   "outputs": [],
   "source": [
    "# df['roles'].unique()"
   ]
  },
  {
   "cell_type": "code",
   "execution_count": null,
   "id": "ba4deaeb",
   "metadata": {},
   "outputs": [],
   "source": [
    "def clean_role(role):\n",
    "    if '  ' in role: \n",
    "        return np.nan\n",
    "    else: \n",
    "        return str_to_list(role)"
   ]
  },
  {
   "cell_type": "code",
   "execution_count": null,
   "id": "d8033377",
   "metadata": {
    "scrolled": true
   },
   "outputs": [],
   "source": [
    "df['roles'] = df['roles'].apply(lambda x: clean_role(str(x)))\n",
    "df"
   ]
  },
  {
   "cell_type": "markdown",
   "id": "ecb8141a",
   "metadata": {},
   "source": [
    "# Date Posted\n",
    "Extract data posted"
   ]
  },
  {
   "cell_type": "code",
   "execution_count": null,
   "id": "fd411c14",
   "metadata": {},
   "outputs": [],
   "source": [
    "df['posted_on'].unique()"
   ]
  },
  {
   "cell_type": "code",
   "execution_count": null,
   "id": "a460887c",
   "metadata": {
    "scrolled": true
   },
   "outputs": [],
   "source": [
    "df[df['posted_on'] == '30+ days ago']['last_updated'].value_counts()"
   ]
  },
  {
   "cell_type": "code",
   "execution_count": null,
   "id": "bae6c9d5",
   "metadata": {},
   "outputs": [],
   "source": [
    "df[(df['posted_on'] == '30+ days ago') & (df['last_updated'].isna())]"
   ]
  },
  {
   "cell_type": "code",
   "execution_count": null,
   "id": "8b27d4d3",
   "metadata": {},
   "outputs": [],
   "source": [
    "df['last_updated'].isna()"
   ]
  },
  {
   "cell_type": "code",
   "execution_count": null,
   "id": "970f6120",
   "metadata": {},
   "outputs": [],
   "source": [
    "def getDatePosted(text, date_of_scraping):\n",
    "    \"\"\"Converts date posted in the format of xx hours/days/months ago into datetime format\n",
    "\n",
    "    Args:\n",
    "        text (str): text in format: xx hours/days/months ago\n",
    "        date_of_scraping (str): date in format 'YYYY-MM-DD'\n",
    "\n",
    "    Returns:\n",
    "        str: date in format 'YYYY-MM-DD' after subtracting the stated period \n",
    "    \"\"\"\n",
    "\n",
    "    # First convert the input text to datetime data type\n",
    "    date_of_scraping = datetime.strptime(date_of_scraping, '%Y-%m-%d')\n",
    "    date_posted = ''\n",
    "\n",
    "    if \"hours\" in text:\n",
    "        # Automatically take the day before day of scraping (assume hours do not spill over to the day before)\n",
    "        date = date_of_scraping + timedelta(days=-1) \n",
    "        date_posted = date.date().strftime('%Y-%m-%d')\n",
    "\n",
    "    elif \"days\" in text:\n",
    "        # Extract number from text\n",
    "        n_days = int(text.split(\" \")[0])\n",
    "        date = date_of_scraping + timedelta(days=-n_days)\n",
    "        date_posted = date.date().strftime('%Y-%m-%d')\n",
    "        \n",
    "    elif \"months\" in text:\n",
    "        # Extract number from text\n",
    "        n_months = int(text.split(\" \")[1])\n",
    "        date = date_of_scraping + relativedelta(months=-n_months)\n",
    "        date_posted = date.date().strftime('%Y-%m-%d')\n",
    "\n",
    "    return date_posted"
   ]
  },
  {
   "cell_type": "code",
   "execution_count": null,
   "id": "19d536c6",
   "metadata": {},
   "outputs": [],
   "source": []
  },
  {
   "cell_type": "code",
   "execution_count": null,
   "id": "8363593b",
   "metadata": {},
   "outputs": [],
   "source": [
    "# if there is last updated, then use else, use the function"
   ]
  },
  {
   "cell_type": "code",
   "execution_count": null,
   "id": "742c6b5f",
   "metadata": {},
   "outputs": [],
   "source": []
  },
  {
   "cell_type": "code",
   "execution_count": null,
   "id": "ccb9902e",
   "metadata": {},
   "outputs": [],
   "source": []
  },
  {
   "cell_type": "code",
   "execution_count": null,
   "id": "7f4104ae",
   "metadata": {},
   "outputs": [],
   "source": []
  },
  {
   "cell_type": "code",
   "execution_count": null,
   "id": "7257a77d",
   "metadata": {},
   "outputs": [],
   "source": []
  },
  {
   "cell_type": "code",
   "execution_count": null,
   "id": "e3d3d2b7",
   "metadata": {},
   "outputs": [],
   "source": []
  },
  {
   "cell_type": "code",
   "execution_count": null,
   "id": "ea4f49cb",
   "metadata": {},
   "outputs": [],
   "source": []
  }
 ],
 "metadata": {
  "kernelspec": {
   "display_name": "Python 3 (ipykernel)",
   "language": "python",
   "name": "python3"
  },
  "language_info": {
   "codemirror_mode": {
    "name": "ipython",
    "version": 3
   },
   "file_extension": ".py",
   "mimetype": "text/x-python",
   "name": "python",
   "nbconvert_exporter": "python",
   "pygments_lexer": "ipython3",
   "version": "3.7.4"
  }
 },
 "nbformat": 4,
 "nbformat_minor": 5
}
