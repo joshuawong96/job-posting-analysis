{
 "cells": [
  {
   "cell_type": "code",
   "execution_count": 1,
   "metadata": {},
   "outputs": [],
   "source": [
    "import pandas as pd\n",
    "import re\n",
    "import os"
   ]
  },
  {
   "cell_type": "code",
   "execution_count": 2,
   "metadata": {},
   "outputs": [],
   "source": [
    "base_directory = \"C:/Users/limst/Documents/github/job-posting-analysis\""
   ]
  },
  {
   "cell_type": "code",
   "execution_count": 3,
   "metadata": {},
   "outputs": [
    {
     "data": {
      "text/plain": [
       "['All_MonsterSg.csv',\n",
       " 'cleaned_nodeflair_jobpostings.csv',\n",
       " 'Cloud Computing_MonsterSg.csv',\n",
       " 'Cloud_MonsterSg.csv',\n",
       " 'combined_data.csv',\n",
       " 'filtered_df.csv',\n",
       " 'LinkedIn.csv',\n",
       " 'Posts_Industry.csv']"
      ]
     },
     "execution_count": 3,
     "metadata": {},
     "output_type": "execute_result"
    }
   ],
   "source": [
    "directory = os.chdir(f\"{base_directory}/data/cleaned/\")\n",
    "files = os.listdir(\".\")\n",
    "files"
   ]
  },
  {
   "cell_type": "code",
   "execution_count": 4,
   "metadata": {},
   "outputs": [],
   "source": [
    "df = pd.read_csv(\"filtered_df.csv\", index_col=0)\n",
    "\n",
    "def read_set(text):\n",
    "    text = text[1:-1]\n",
    "    text = text.replace(\"'\",'')\n",
    "    text = text.split(',')\n",
    "    newlist = []\n",
    "    for x in text:\n",
    "        newlist.append(x)\n",
    "        \n",
    "    return newlist\n",
    "    \n",
    "df[\"all_tech_stack_split\"] = df[\"all_tech_stack\"].apply(read_set)"
   ]
  },
  {
   "cell_type": "code",
   "execution_count": 5,
   "metadata": {},
   "outputs": [
    {
     "data": {
      "text/html": [
       "<div>\n",
       "<style scoped>\n",
       "    .dataframe tbody tr th:only-of-type {\n",
       "        vertical-align: middle;\n",
       "    }\n",
       "\n",
       "    .dataframe tbody tr th {\n",
       "        vertical-align: top;\n",
       "    }\n",
       "\n",
       "    .dataframe thead th {\n",
       "        text-align: right;\n",
       "    }\n",
       "</style>\n",
       "<table border=\"1\" class=\"dataframe\">\n",
       "  <thead>\n",
       "    <tr style=\"text-align: right;\">\n",
       "      <th></th>\n",
       "      <th>Unnamed: 0.1</th>\n",
       "      <th>job_title</th>\n",
       "      <th>company_name</th>\n",
       "      <th>job_type</th>\n",
       "      <th>tech_stack</th>\n",
       "      <th>job_desc</th>\n",
       "      <th>industry</th>\n",
       "      <th>date_posted</th>\n",
       "      <th>url</th>\n",
       "      <th>source</th>\n",
       "      <th>lower_salary</th>\n",
       "      <th>upper_salary</th>\n",
       "      <th>lower_year</th>\n",
       "      <th>upper_year</th>\n",
       "      <th>extracted_tech_stack</th>\n",
       "      <th>all_tech_stack</th>\n",
       "      <th>cleaned_job_desc</th>\n",
       "      <th>Cluster</th>\n",
       "      <th>all_tech_stack_split</th>\n",
       "    </tr>\n",
       "  </thead>\n",
       "  <tbody>\n",
       "    <tr>\n",
       "      <th>0</th>\n",
       "      <td>0</td>\n",
       "      <td>Senior Python Developer</td>\n",
       "      <td>Citi</td>\n",
       "      <td>permanent</td>\n",
       "      <td>NaN</td>\n",
       "      <td>Job Description :\\r\\n\\r\\nJob Purpose:\\r\\nWe ar...</td>\n",
       "      <td>['Banking/Accounting/Financial Services']</td>\n",
       "      <td>2022-02-18</td>\n",
       "      <td>https://www.monster.com.sg/seeker/job-details?...</td>\n",
       "      <td>monster</td>\n",
       "      <td>NaN</td>\n",
       "      <td>NaN</td>\n",
       "      <td>NaN</td>\n",
       "      <td>NaN</td>\n",
       "      <td>{'JavaScript', 'SQL', 'REST', 'big data', 'Haz...</td>\n",
       "      <td>set()</td>\n",
       "      <td>job description      job purpose   we are look...</td>\n",
       "      <td>Software Developer</td>\n",
       "      <td>[et(]</td>\n",
       "    </tr>\n",
       "    <tr>\n",
       "      <th>1</th>\n",
       "      <td>1</td>\n",
       "      <td>Senior Partner Solutions Architect (Microsoft)</td>\n",
       "      <td>Amazon</td>\n",
       "      <td>permanent</td>\n",
       "      <td>NaN</td>\n",
       "      <td>Job Description :\\r\\nJob summary\\r\\nDESCRIPTIO...</td>\n",
       "      <td>['Internet/E-commerce']</td>\n",
       "      <td>2022-02-18</td>\n",
       "      <td>https://www.monster.com.sg/seeker/job-details?...</td>\n",
       "      <td>monster</td>\n",
       "      <td>NaN</td>\n",
       "      <td>NaN</td>\n",
       "      <td>NaN</td>\n",
       "      <td>NaN</td>\n",
       "      <td>{'Stack', 'Caching', 'Azure', 'Load Balencers'...</td>\n",
       "      <td>set()</td>\n",
       "      <td>job description    job summary  description  d...</td>\n",
       "      <td>Solutions Architect</td>\n",
       "      <td>[et(]</td>\n",
       "    </tr>\n",
       "    <tr>\n",
       "      <th>7</th>\n",
       "      <td>7</td>\n",
       "      <td>Cloud Engineer (Automation)</td>\n",
       "      <td>Recruit Expert Pte. Ltd.</td>\n",
       "      <td>permanent</td>\n",
       "      <td>['Puppet', 'Cloud Applications', 'Cloud Securi...</td>\n",
       "      <td>In-charge of the design, deployment, installat...</td>\n",
       "      <td>['Other']</td>\n",
       "      <td>2022-02-19</td>\n",
       "      <td>https://www.monster.com.sg/seeker/job-details?...</td>\n",
       "      <td>monster</td>\n",
       "      <td>48000.0</td>\n",
       "      <td>66000.0</td>\n",
       "      <td>2.0</td>\n",
       "      <td>5.0</td>\n",
       "      <td>{'IT', 'upgrades', 'R1326740', 'Ansible', 'fix...</td>\n",
       "      <td>{' Cloud Computing', ' Cloud-based', ' Cloud S...</td>\n",
       "      <td>in charge of the design  deployment  installat...</td>\n",
       "      <td>Cloud Engineer</td>\n",
       "      <td>[ Cloud Computing,   Cloud-based,   Cloud Secu...</td>\n",
       "    </tr>\n",
       "  </tbody>\n",
       "</table>\n",
       "</div>"
      ],
      "text/plain": [
       "   Unnamed: 0.1                                       job_title  \\\n",
       "0             0                         Senior Python Developer   \n",
       "1             1  Senior Partner Solutions Architect (Microsoft)   \n",
       "7             7                     Cloud Engineer (Automation)   \n",
       "\n",
       "               company_name   job_type  \\\n",
       "0                      Citi  permanent   \n",
       "1                    Amazon  permanent   \n",
       "7  Recruit Expert Pte. Ltd.  permanent   \n",
       "\n",
       "                                          tech_stack  \\\n",
       "0                                                NaN   \n",
       "1                                                NaN   \n",
       "7  ['Puppet', 'Cloud Applications', 'Cloud Securi...   \n",
       "\n",
       "                                            job_desc  \\\n",
       "0  Job Description :\\r\\n\\r\\nJob Purpose:\\r\\nWe ar...   \n",
       "1  Job Description :\\r\\nJob summary\\r\\nDESCRIPTIO...   \n",
       "7  In-charge of the design, deployment, installat...   \n",
       "\n",
       "                                    industry date_posted  \\\n",
       "0  ['Banking/Accounting/Financial Services']  2022-02-18   \n",
       "1                    ['Internet/E-commerce']  2022-02-18   \n",
       "7                                  ['Other']  2022-02-19   \n",
       "\n",
       "                                                 url   source  lower_salary  \\\n",
       "0  https://www.monster.com.sg/seeker/job-details?...  monster           NaN   \n",
       "1  https://www.monster.com.sg/seeker/job-details?...  monster           NaN   \n",
       "7  https://www.monster.com.sg/seeker/job-details?...  monster       48000.0   \n",
       "\n",
       "   upper_salary  lower_year  upper_year  \\\n",
       "0           NaN         NaN         NaN   \n",
       "1           NaN         NaN         NaN   \n",
       "7       66000.0         2.0         5.0   \n",
       "\n",
       "                                extracted_tech_stack  \\\n",
       "0  {'JavaScript', 'SQL', 'REST', 'big data', 'Haz...   \n",
       "1  {'Stack', 'Caching', 'Azure', 'Load Balencers'...   \n",
       "7  {'IT', 'upgrades', 'R1326740', 'Ansible', 'fix...   \n",
       "\n",
       "                                      all_tech_stack  \\\n",
       "0                                              set()   \n",
       "1                                              set()   \n",
       "7  {' Cloud Computing', ' Cloud-based', ' Cloud S...   \n",
       "\n",
       "                                    cleaned_job_desc              Cluster  \\\n",
       "0  job description      job purpose   we are look...   Software Developer   \n",
       "1  job description    job summary  description  d...  Solutions Architect   \n",
       "7  in charge of the design  deployment  installat...       Cloud Engineer   \n",
       "\n",
       "                                all_tech_stack_split  \n",
       "0                                              [et(]  \n",
       "1                                              [et(]  \n",
       "7  [ Cloud Computing,   Cloud-based,   Cloud Secu...  "
      ]
     },
     "execution_count": 5,
     "metadata": {},
     "output_type": "execute_result"
    }
   ],
   "source": [
    "df.head(3)"
   ]
  },
  {
   "cell_type": "code",
   "execution_count": 6,
   "metadata": {},
   "outputs": [
    {
     "data": {
      "text/html": [
       "<div>\n",
       "<style scoped>\n",
       "    .dataframe tbody tr th:only-of-type {\n",
       "        vertical-align: middle;\n",
       "    }\n",
       "\n",
       "    .dataframe tbody tr th {\n",
       "        vertical-align: top;\n",
       "    }\n",
       "\n",
       "    .dataframe thead th {\n",
       "        text-align: right;\n",
       "    }\n",
       "</style>\n",
       "<table border=\"1\" class=\"dataframe\">\n",
       "  <thead>\n",
       "    <tr style=\"text-align: right;\">\n",
       "      <th></th>\n",
       "      <th>job_title</th>\n",
       "      <th>all_tech_stack_split</th>\n",
       "    </tr>\n",
       "  </thead>\n",
       "  <tbody>\n",
       "    <tr>\n",
       "      <th>7</th>\n",
       "      <td>Cloud Engineer (Automation)</td>\n",
       "      <td>[ Cloud Computing,   Cloud-based,   Cloud Secu...</td>\n",
       "    </tr>\n",
       "    <tr>\n",
       "      <th>8</th>\n",
       "      <td>Cloud Engineer (Automation)</td>\n",
       "      <td>[ Cloud Computing,   Cloud-based,   Cloud Secu...</td>\n",
       "    </tr>\n",
       "    <tr>\n",
       "      <th>9</th>\n",
       "      <td>Senior Software and Automation Architect</td>\n",
       "      <td>[Cisco,  CircleCI,  CI,  Orchestration,  Segme...</td>\n",
       "    </tr>\n",
       "  </tbody>\n",
       "</table>\n",
       "</div>"
      ],
      "text/plain": [
       "                                  job_title  \\\n",
       "7               Cloud Engineer (Automation)   \n",
       "8               Cloud Engineer (Automation)   \n",
       "9  Senior Software and Automation Architect   \n",
       "\n",
       "                                all_tech_stack_split  \n",
       "7  [ Cloud Computing,   Cloud-based,   Cloud Secu...  \n",
       "8  [ Cloud Computing,   Cloud-based,   Cloud Secu...  \n",
       "9  [Cisco,  CircleCI,  CI,  Orchestration,  Segme...  "
      ]
     },
     "execution_count": 6,
     "metadata": {},
     "output_type": "execute_result"
    }
   ],
   "source": [
    "df_filtered = df[df.all_tech_stack!=\"set()\"]\n",
    "df_filtered = df_filtered[['job_title','all_tech_stack_split']]\n",
    "df_filtered.head(3)"
   ]
  },
  {
   "cell_type": "code",
   "execution_count": null,
   "metadata": {},
   "outputs": [],
   "source": [
    "combis = pd.DataFrame(columns = ['job_title', 'tech_stack'])\n",
    "\n",
    "for i, row in interaction.iterrows():\n",
    "    jobtitle = row['job_title']\n",
    "    for tech in row['all_tech_stack_split']: \n",
    "        new_row = pd.DataFrame({'job_title':[jobtitle],'tech_stack':[tech]})\n",
    "        combis = combis.append(new_row)\n",
    "combis.tail()"
   ]
  },
  {
   "cell_type": "code",
   "execution_count": 14,
   "metadata": {},
   "outputs": [],
   "source": [
    "interaction_csv = combis.to_csv(\"interaction.csv\")"
   ]
  },
  {
   "cell_type": "markdown",
   "metadata": {},
   "source": [
    "## Skills-skills"
   ]
  },
  {
   "cell_type": "code",
   "execution_count": 9,
   "metadata": {},
   "outputs": [
    {
     "data": {
      "text/plain": [
       "['tech', 'tech', 'tech', 'tech', 'tech', 'tech']"
      ]
     },
     "execution_count": 9,
     "metadata": {},
     "output_type": "execute_result"
    }
   ],
   "source": [
    "['tech']*6"
   ]
  },
  {
   "cell_type": "code",
   "execution_count": 17,
   "metadata": {},
   "outputs": [
    {
     "data": {
      "text/html": [
       "<div>\n",
       "<style scoped>\n",
       "    .dataframe tbody tr th:only-of-type {\n",
       "        vertical-align: middle;\n",
       "    }\n",
       "\n",
       "    .dataframe tbody tr th {\n",
       "        vertical-align: top;\n",
       "    }\n",
       "\n",
       "    .dataframe thead th {\n",
       "        text-align: right;\n",
       "    }\n",
       "</style>\n",
       "<table border=\"1\" class=\"dataframe\">\n",
       "  <thead>\n",
       "    <tr style=\"text-align: right;\">\n",
       "      <th></th>\n",
       "      <th>tech_1</th>\n",
       "      <th>tech_2</th>\n",
       "    </tr>\n",
       "  </thead>\n",
       "  <tbody>\n",
       "    <tr>\n",
       "      <th>0</th>\n",
       "      <td>1</td>\n",
       "      <td>1</td>\n",
       "    </tr>\n",
       "    <tr>\n",
       "      <th>1</th>\n",
       "      <td>2</td>\n",
       "      <td>4</td>\n",
       "    </tr>\n",
       "    <tr>\n",
       "      <th>2</th>\n",
       "      <td>3</td>\n",
       "      <td>3</td>\n",
       "    </tr>\n",
       "    <tr>\n",
       "      <th>3</th>\n",
       "      <td>4</td>\n",
       "      <td>4</td>\n",
       "    </tr>\n",
       "    <tr>\n",
       "      <th>4</th>\n",
       "      <td>5</td>\n",
       "      <td>5</td>\n",
       "    </tr>\n",
       "    <tr>\n",
       "      <th>5</th>\n",
       "      <td>6</td>\n",
       "      <td>6</td>\n",
       "    </tr>\n",
       "  </tbody>\n",
       "</table>\n",
       "</div>"
      ],
      "text/plain": [
       "   tech_1  tech_2\n",
       "0       1       1\n",
       "1       2       4\n",
       "2       3       3\n",
       "3       4       4\n",
       "4       5       5\n",
       "5       6       6"
      ]
     },
     "execution_count": 17,
     "metadata": {},
     "output_type": "execute_result"
    }
   ],
   "source": [
    "skill_row = pd.DataFrame({'tech_1':[1,2,3,4,5,6],'tech_2':[1,4,3,4,5,6]})\n",
    "skill_row"
   ]
  },
  {
   "cell_type": "code",
   "execution_count": null,
   "metadata": {},
   "outputs": [],
   "source": [
    "skills = pd.DataFrame(columns = ['tech_1', 'tech_2'])\n",
    "\n",
    "for i, row in df_filtered.iterrows():\n",
    "    for tech in row['all_tech_stack_split']:\n",
    "        array_length = len(row['all_tech_stack_split'])\n",
    "        new_row = pd.DataFrame({'tech_1':[tech]*array_length,'tech_2':row['all_tech_stack_split']})\n",
    "        skills = skills.append(new_row)\n"
   ]
  },
  {
   "cell_type": "code",
   "execution_count": null,
   "metadata": {},
   "outputs": [],
   "source": []
  }
 ],
 "metadata": {
  "kernelspec": {
   "display_name": "Python 3 (ipykernel)",
   "language": "python",
   "name": "python3"
  },
  "language_info": {
   "codemirror_mode": {
    "name": "ipython",
    "version": 3
   },
   "file_extension": ".py",
   "mimetype": "text/x-python",
   "name": "python",
   "nbconvert_exporter": "python",
   "pygments_lexer": "ipython3",
   "version": "3.9.7"
  }
 },
 "nbformat": 4,
 "nbformat_minor": 4
}
