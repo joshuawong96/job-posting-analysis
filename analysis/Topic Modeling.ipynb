{
 "cells": [
  {
   "cell_type": "code",
   "execution_count": null,
   "id": "41baa29d",
   "metadata": {},
   "outputs": [],
   "source": [
    "import pandas as pd\n",
    "import re \n",
    "from pprint import pprint\n",
    "\n",
    "# Gensim for topic modeling\n",
    "import gensim\n",
    "from gensim.utils import simple_preprocess\n",
    "from gensim import matutils, models\n",
    "import gensim.corpora as corpora\n",
    "from gensim.models import CoherenceModel\n",
    "\n",
    "# Plotting tools\n",
    "import pyLDAvis\n",
    "import pyLDAvis.gensim # don't skip this\n",
    "import matplotlib.pyplot as plt\n",
    "%matplotlib inline\n",
    "\n",
    "import warnings\n",
    "warnings.filterwarnings('ignore')"
   ]
  },
  {
   "cell_type": "code",
   "execution_count": null,
   "id": "5813ab67",
   "metadata": {},
   "outputs": [],
   "source": [
    "df = pd.read_csv('')\n",
    "df.head()"
   ]
  },
  {
   "cell_type": "code",
   "execution_count": null,
   "id": "a8e0c4e8",
   "metadata": {},
   "outputs": [],
   "source": [
    "# Extracting relevant columns\n",
    "final_df = df[['job_title','company','industry','years_exp','description','skills']]"
   ]
  },
  {
   "cell_type": "markdown",
   "id": "8460b1ae",
   "metadata": {},
   "source": [
    "## Create Corpus"
   ]
  },
  {
   "cell_type": "code",
   "execution_count": null,
   "id": "361e5304",
   "metadata": {},
   "outputs": [],
   "source": [
    "data_lemmatized = final_df['skills'].tolist()\n",
    "print(data_lemmatized[:10])"
   ]
  },
  {
   "cell_type": "code",
   "execution_count": null,
   "id": "cac6fb76",
   "metadata": {},
   "outputs": [],
   "source": [
    "# Create Dictionary\n",
    "id2word = corpora.Dictionary(data_lemmatized)\n",
    "# Filter out tokens that appear in only 1 documents and appear in more than 90% of the documents\n",
    "id2word.filter_extremes(no_below=2, no_above=0.9)\n",
    "# Create Corpus\n",
    "texts = data_lemmatized\n",
    "# Term Document Frequency\n",
    "corpus = [id2word.doc2bow(text) for text in texts]"
   ]
  },
  {
   "cell_type": "code",
   "execution_count": null,
   "id": "4e8c5e4a",
   "metadata": {},
   "outputs": [],
   "source": [
    "# Create a dictionary representation of the documents. Each word gets an id\n",
    "print('Sample word to id mappings:\\n', list(id2word.items())[:50])\n",
    "print()\n",
    "print('Total Vocabulary Size:', len(id2word))"
   ]
  },
  {
   "cell_type": "markdown",
   "id": "c5d3d381",
   "metadata": {},
   "source": [
    "## Building LDA Model"
   ]
  },
  {
   "cell_type": "markdown",
   "id": "9e3ff3ea",
   "metadata": {},
   "source": [
    "### Hypertuning Model Parameters"
   ]
  },
  {
   "cell_type": "code",
   "execution_count": null,
   "id": "640ea5a8",
   "metadata": {},
   "outputs": [],
   "source": [
    "# supporting function\n",
    "def compute_evaluation_values(corpus, dictionary, k):\n",
    "    \n",
    "    lda_model = gensim.models.LdaMulticore(corpus=corpus,\n",
    "                                           id2word=id2word,\n",
    "                                           num_topics=k, \n",
    "                                           random_state=100,\n",
    "                                           chunksize=100,\n",
    "                                           passes=20,\n",
    "                                           per_word_topics=True)\n",
    "    \n",
    "    coherence_model_lda = CoherenceModel(model=lda_model, texts=data_lemmatized, dictionary=id2word, coherence='c_v')\n",
    "    perplexity = lda_model.log_perplexity(corpus)\n",
    "    \n",
    "    return [coherence_model_lda.get_coherence(), perplexity]"
   ]
  },
  {
   "cell_type": "code",
   "execution_count": null,
   "id": "3a49a028",
   "metadata": {},
   "outputs": [],
   "source": [
    "# Iterate over possible number of topics.\n",
    "topic_param = []\n",
    "coherence_score = []\n",
    "perplexity_score = []\n",
    "\n",
    "for k in range(2, 20):\n",
    "    print('topic number: ', k)\n",
    "    ev = compute_evaluation_values(corpus=corpus, dictionary=id2word, k=k)\n",
    "    coherence_score.append(ev[0])\n",
    "    perplexity_score.append(ev[1])\n",
    "    print('Coherence Score: ', ev[0])\n",
    "    print('Perplexity Score: ', ev[1])\n",
    "    print()\n",
    "    \n",
    "    topic_param.append(k)"
   ]
  },
  {
   "cell_type": "code",
   "execution_count": null,
   "id": "8676fae3",
   "metadata": {},
   "outputs": [],
   "source": [
    "# Show graph\n",
    "plt.figure(figsize=(16, 8))\n",
    "plt.plot(topic_param, coherence_score)\n",
    "\n",
    "plt.title(\"Choosing Optimal LDA Model\")\n",
    "plt.xlabel(\"Num Topics\")\n",
    "plt.ylabel(\"Coherence Scores\")\n",
    "plt.show()"
   ]
  },
  {
   "cell_type": "markdown",
   "id": "ab291e30",
   "metadata": {},
   "source": [
    "### Final LDA Model"
   ]
  },
  {
   "cell_type": "code",
   "execution_count": null,
   "id": "85b861cf",
   "metadata": {},
   "outputs": [],
   "source": [
    "ntopics = 5\n",
    "\n",
    "lda_model = gensim.models.LdaMulticore(corpus=corpus,\n",
    "                                       id2word=id2word,\n",
    "                                       num_topics=ntopics_des_name, \n",
    "                                       random_state=100,\n",
    "                                       chunksize=100,\n",
    "                                       passes=20,\n",
    "                                       per_word_topics=True)"
   ]
  },
  {
   "cell_type": "code",
   "execution_count": null,
   "id": "764717aa",
   "metadata": {},
   "outputs": [],
   "source": [
    "# Print the Keyword in the topics\n",
    "pprint(lda_model.print_topics())\n",
    "doc_lda = lda_model[corpus]"
   ]
  },
  {
   "cell_type": "code",
   "execution_count": null,
   "id": "a2c8ea7f",
   "metadata": {},
   "outputs": [],
   "source": [
    "def Sort_Tuple(tup):  \n",
    "    return(sorted(tup, key = lambda x: x[1], reverse = True))"
   ]
  },
  {
   "cell_type": "code",
   "execution_count": null,
   "id": "c5fa21b5",
   "metadata": {},
   "outputs": [],
   "source": [
    "topic_num = []\n",
    "print(lda_model.get_document_topics(corpus))\n",
    "for n in range(len(df_final)):\n",
    "    get_document_topics = lda_model.get_document_topics(corpus[n])\n",
    "    sorted_doc_topics = Sort_Tuple(get_document_topics)\n",
    "    all_topic = []\n",
    "    for i in sorted_doc_topics:\n",
    "        all_topic.append(i[0])\n",
    "    topic_num.append(all_topic)"
   ]
  },
  {
   "cell_type": "code",
   "execution_count": null,
   "id": "762aa1b3",
   "metadata": {},
   "outputs": [],
   "source": [
    "final_df['Topic'] = topic_num"
   ]
  },
  {
   "cell_type": "code",
   "execution_count": null,
   "id": "2c8c62d5",
   "metadata": {},
   "outputs": [],
   "source": [
    "final_df"
   ]
  },
  {
   "cell_type": "markdown",
   "id": "f109d219",
   "metadata": {},
   "source": [
    "## Visualisation"
   ]
  },
  {
   "cell_type": "code",
   "execution_count": null,
   "id": "000a78f8",
   "metadata": {},
   "outputs": [],
   "source": [
    "# Visualize the topics\n",
    "pyLDAvis.enable_notebook()\n",
    "vis = pyLDAvis.gensim.prepare(lda_model_des_name, corpus, id2word)\n",
    "vis"
   ]
  },
  {
   "cell_type": "code",
   "execution_count": null,
   "id": "42fa700f",
   "metadata": {},
   "outputs": [],
   "source": [
    "from collections import Counter\n",
    "\n",
    "topics = lda_model_des_name.show_topics(num_topics=ntopics_des_name, formatted=False)\n",
    "data_flat = [w for w_list in data_lemmatized for w in w_list]\n",
    "counter = Counter(data_flat)\n",
    "\n",
    "out = []\n",
    "for i, topic in topics:\n",
    "    for word, weight in topic:\n",
    "        out.append([word, i , weight, counter[word]])\n",
    "\n",
    "df = pd.DataFrame(out, columns=['word', 'topic_id', 'importance', 'word_count'])        \n",
    "\n",
    "# Plot Word Count and Weights of Topic Keywords\n",
    "fig, axes = plt.subplots(10, 2, figsize=(10,20), dpi=160)\n",
    "cols = ['#008080', '#A52A2A', '#DC143C', '#800000', '#006400', '#556b2f', '#002366', '#ff8c00', '#FF1493', '#9400D3',\n",
    "        '#ba55d3', '#b8860b', '#C71585', '#00ff7f', '#00004C', '#00008B', '#B8860B', '#DEB887', '#8A2BE2', '#1b364a']\n",
    "\n",
    "for i, ax in enumerate(axes.flatten()):\n",
    "    if i > ntopics_des_name - 1: # break when all topics are shown\n",
    "        break\n",
    "    ax.bar(x='word', height=\"word_count\", data=df.loc[df.topic_id==i, :], color=cols[i], width=0.5, alpha=0.3, label='Word Count')\n",
    "    ax_twin = ax.twinx()\n",
    "    ax_twin.bar(x='word', height=\"importance\", data=df.loc[df.topic_id==i, :], color=cols[i], width=0.2, label='Weights')\n",
    "    ax.set_ylabel('Word Count', color=cols[i])\n",
    "    ax.set_title('Topic: ' + str(i), color=cols[i], fontsize=16)\n",
    "    ax.tick_params(axis='y', left=False)\n",
    "    ax.set_xticklabels(df.loc[df.topic_id==i, 'word'], rotation=30, horizontalalignment= 'right')\n",
    "    ax.legend(loc='upper left'); ax_twin.legend(loc='upper right')\n",
    "\n",
    "\n",
    "fig.tight_layout(w_pad=2)    \n",
    "fig.suptitle('Word Count and Importance of Topic Keywords', fontsize=22, y=1.05)    \n",
    "plt.show()"
   ]
  },
  {
   "cell_type": "code",
   "execution_count": null,
   "id": "e7d15c84",
   "metadata": {},
   "outputs": [],
   "source": []
  }
 ],
 "metadata": {
  "kernelspec": {
   "display_name": "Python 3 (ipykernel)",
   "language": "python",
   "name": "python3"
  },
  "language_info": {
   "codemirror_mode": {
    "name": "ipython",
    "version": 3
   },
   "file_extension": ".py",
   "mimetype": "text/x-python",
   "name": "python",
   "nbconvert_exporter": "python",
   "pygments_lexer": "ipython3",
   "version": "3.9.7"
  }
 },
 "nbformat": 4,
 "nbformat_minor": 5
}
