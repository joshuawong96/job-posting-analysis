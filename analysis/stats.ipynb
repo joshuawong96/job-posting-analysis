{
 "cells": [
  {
   "cell_type": "code",
   "execution_count": 1,
   "metadata": {},
   "outputs": [],
   "source": [
    "import pandas as pd\n",
    "import numpy as np"
   ]
  },
  {
   "cell_type": "code",
   "execution_count": 2,
   "metadata": {},
   "outputs": [
    {
     "data": {
      "text/html": [
       "<div>\n",
       "<style scoped>\n",
       "    .dataframe tbody tr th:only-of-type {\n",
       "        vertical-align: middle;\n",
       "    }\n",
       "\n",
       "    .dataframe tbody tr th {\n",
       "        vertical-align: top;\n",
       "    }\n",
       "\n",
       "    .dataframe thead th {\n",
       "        text-align: right;\n",
       "    }\n",
       "</style>\n",
       "<table border=\"1\" class=\"dataframe\">\n",
       "  <thead>\n",
       "    <tr style=\"text-align: right;\">\n",
       "      <th></th>\n",
       "      <th>job_title</th>\n",
       "      <th>company</th>\n",
       "      <th>salary</th>\n",
       "      <th>job_type</th>\n",
       "      <th>years_experience</th>\n",
       "      <th>tech_stack</th>\n",
       "      <th>job_description</th>\n",
       "      <th>industry</th>\n",
       "      <th>function</th>\n",
       "      <th>roles</th>\n",
       "      <th>date_posted</th>\n",
       "      <th>url</th>\n",
       "    </tr>\n",
       "  </thead>\n",
       "  <tbody>\n",
       "    <tr>\n",
       "      <th>0</th>\n",
       "      <td>Senior Python Developer</td>\n",
       "      <td>Citi</td>\n",
       "      <td>NaN</td>\n",
       "      <td>permanent</td>\n",
       "      <td>NaN</td>\n",
       "      <td>NaN</td>\n",
       "      <td>Job Description :\\n\\nJob Purpose:\\nWe are look...</td>\n",
       "      <td>['Banking/Accounting/Financial Services']</td>\n",
       "      <td>['IT']</td>\n",
       "      <td>['Software Engineer/Programmer']</td>\n",
       "      <td>18/2/22</td>\n",
       "      <td>https://www.monster.com.sg/seeker/job-details?...</td>\n",
       "    </tr>\n",
       "    <tr>\n",
       "      <th>1</th>\n",
       "      <td>Senior Partner Solutions Architect (Microsoft)</td>\n",
       "      <td>Amazon</td>\n",
       "      <td>NaN</td>\n",
       "      <td>permanent</td>\n",
       "      <td>NaN</td>\n",
       "      <td>NaN</td>\n",
       "      <td>Job Description :\\nJob summary\\nDESCRIPTION\\nD...</td>\n",
       "      <td>['Internet/E-commerce']</td>\n",
       "      <td>['IT']</td>\n",
       "      <td>['Software Engineer/Programmer']</td>\n",
       "      <td>18/2/22</td>\n",
       "      <td>https://www.monster.com.sg/seeker/job-details?...</td>\n",
       "    </tr>\n",
       "    <tr>\n",
       "      <th>2</th>\n",
       "      <td>IT Technician</td>\n",
       "      <td>Ascend Com Pte. Ltd.</td>\n",
       "      <td>['24000', '36000']</td>\n",
       "      <td>permanent</td>\n",
       "      <td>['2', '5']</td>\n",
       "      <td>['Switches', 'Mac', 'Windows 10', 'Cloud Compu...</td>\n",
       "      <td>Responsibilities:\\nProvide helpdesk support fo...</td>\n",
       "      <td>['Other']</td>\n",
       "      <td>['IT']</td>\n",
       "      <td>['Other Software/Hardware/EDP']</td>\n",
       "      <td>19/2/22</td>\n",
       "      <td>https://www.monster.com.sg/seeker/job-details?...</td>\n",
       "    </tr>\n",
       "    <tr>\n",
       "      <th>3</th>\n",
       "      <td>Customer Engineer</td>\n",
       "      <td>Applied Materials South East Asia Pte. Ltd.</td>\n",
       "      <td>['42000', '84000']</td>\n",
       "      <td>permanent</td>\n",
       "      <td>['2', '5']</td>\n",
       "      <td>['Scalability', 'Cloud Computing', 'Google Clo...</td>\n",
       "      <td>Key Responsibilities\\nPerforms all standard se...</td>\n",
       "      <td>['Other']</td>\n",
       "      <td>['Manufacturing/Engineering/R&amp;D']</td>\n",
       "      <td>['Other Production/Engineering/R&amp;D']</td>\n",
       "      <td>19/2/22</td>\n",
       "      <td>https://www.monster.com.sg/seeker/job-details?...</td>\n",
       "    </tr>\n",
       "    <tr>\n",
       "      <th>4</th>\n",
       "      <td>Customer Engineer</td>\n",
       "      <td>Applied Materials South East Asia Pte. Ltd.</td>\n",
       "      <td>['46800', '93600']</td>\n",
       "      <td>permanent</td>\n",
       "      <td>['2', '5']</td>\n",
       "      <td>['Scalability', 'Cloud Computing', 'Google Clo...</td>\n",
       "      <td>Has developed specialized skills or is multi-s...</td>\n",
       "      <td>['Other']</td>\n",
       "      <td>['Manufacturing/Engineering/R&amp;D']</td>\n",
       "      <td>['Other Production/Engineering/R&amp;D']</td>\n",
       "      <td>19/2/22</td>\n",
       "      <td>https://www.monster.com.sg/seeker/job-details?...</td>\n",
       "    </tr>\n",
       "  </tbody>\n",
       "</table>\n",
       "</div>"
      ],
      "text/plain": [
       "                                        job_title  \\\n",
       "0                         Senior Python Developer   \n",
       "1  Senior Partner Solutions Architect (Microsoft)   \n",
       "2                                   IT Technician   \n",
       "3                               Customer Engineer   \n",
       "4                               Customer Engineer   \n",
       "\n",
       "                                       company              salary   job_type  \\\n",
       "0                                         Citi                 NaN  permanent   \n",
       "1                                       Amazon                 NaN  permanent   \n",
       "2                         Ascend Com Pte. Ltd.  ['24000', '36000']  permanent   \n",
       "3  Applied Materials South East Asia Pte. Ltd.  ['42000', '84000']  permanent   \n",
       "4  Applied Materials South East Asia Pte. Ltd.  ['46800', '93600']  permanent   \n",
       "\n",
       "  years_experience                                         tech_stack  \\\n",
       "0              NaN                                                NaN   \n",
       "1              NaN                                                NaN   \n",
       "2       ['2', '5']  ['Switches', 'Mac', 'Windows 10', 'Cloud Compu...   \n",
       "3       ['2', '5']  ['Scalability', 'Cloud Computing', 'Google Clo...   \n",
       "4       ['2', '5']  ['Scalability', 'Cloud Computing', 'Google Clo...   \n",
       "\n",
       "                                     job_description  \\\n",
       "0  Job Description :\\n\\nJob Purpose:\\nWe are look...   \n",
       "1  Job Description :\\nJob summary\\nDESCRIPTION\\nD...   \n",
       "2  Responsibilities:\\nProvide helpdesk support fo...   \n",
       "3  Key Responsibilities\\nPerforms all standard se...   \n",
       "4  Has developed specialized skills or is multi-s...   \n",
       "\n",
       "                                    industry  \\\n",
       "0  ['Banking/Accounting/Financial Services']   \n",
       "1                    ['Internet/E-commerce']   \n",
       "2                                  ['Other']   \n",
       "3                                  ['Other']   \n",
       "4                                  ['Other']   \n",
       "\n",
       "                            function                                 roles  \\\n",
       "0                             ['IT']      ['Software Engineer/Programmer']   \n",
       "1                             ['IT']      ['Software Engineer/Programmer']   \n",
       "2                             ['IT']       ['Other Software/Hardware/EDP']   \n",
       "3  ['Manufacturing/Engineering/R&D']  ['Other Production/Engineering/R&D']   \n",
       "4  ['Manufacturing/Engineering/R&D']  ['Other Production/Engineering/R&D']   \n",
       "\n",
       "  date_posted                                                url  \n",
       "0     18/2/22  https://www.monster.com.sg/seeker/job-details?...  \n",
       "1     18/2/22  https://www.monster.com.sg/seeker/job-details?...  \n",
       "2     19/2/22  https://www.monster.com.sg/seeker/job-details?...  \n",
       "3     19/2/22  https://www.monster.com.sg/seeker/job-details?...  \n",
       "4     19/2/22  https://www.monster.com.sg/seeker/job-details?...  "
      ]
     },
     "execution_count": 2,
     "metadata": {},
     "output_type": "execute_result"
    }
   ],
   "source": [
    "df = pd.read_csv('/Users/joshuawong/Documents/GitHub/job-posting-analysis/data/cleaned/All_MonsterSg.csv')\n",
    "df.head()"
   ]
  },
  {
   "cell_type": "markdown",
   "metadata": {},
   "source": [
    "### Total number of listings"
   ]
  },
  {
   "cell_type": "code",
   "execution_count": 3,
   "metadata": {},
   "outputs": [
    {
     "data": {
      "text/plain": [
       "8415"
      ]
     },
     "execution_count": 3,
     "metadata": {},
     "output_type": "execute_result"
    }
   ],
   "source": [
    "len(df)"
   ]
  },
  {
   "cell_type": "markdown",
   "metadata": {},
   "source": [
    "### Number of listings by month"
   ]
  },
  {
   "cell_type": "code",
   "execution_count": 22,
   "metadata": {},
   "outputs": [
    {
     "data": {
      "text/plain": [
       "0    2022-02\n",
       "1    2022-02\n",
       "Name: month, dtype: object"
      ]
     },
     "execution_count": 22,
     "metadata": {},
     "output_type": "execute_result"
    }
   ],
   "source": [
    "df['month'] = df['date_posted'].apply(lambda x: x[:-3])\n",
    "df['month'].head(2)"
   ]
  },
  {
   "cell_type": "code",
   "execution_count": 30,
   "metadata": {},
   "outputs": [
    {
     "data": {
      "text/plain": [
       "2022-03    5670\n",
       "2022-02    2745\n",
       "Name: month, dtype: int64"
      ]
     },
     "execution_count": 30,
     "metadata": {},
     "output_type": "execute_result"
    }
   ],
   "source": [
    "df['month'].value_counts()"
   ]
  },
  {
   "cell_type": "markdown",
   "metadata": {},
   "source": [
    "### Number of listings by industry"
   ]
  },
  {
   "cell_type": "code",
   "execution_count": 32,
   "metadata": {},
   "outputs": [
    {
     "data": {
      "text/plain": [
       "['Other']                                                                                                                                                    5105\n",
       "['IT/Computers - Software']                                                                                                                                   884\n",
       "['Internet/E-commerce']                                                                                                                                       686\n",
       "['Banking/Accounting/Financial Services']                                                                                                                     430\n",
       "['Recruitment/Staffing/RPO']                                                                                                                                  305\n",
       "                                                                                                                                                             ... \n",
       "['Telecom/ISP']                                                                                                                                                 1\n",
       "['Banking/Accounting/Financial Services', 'Other']                                                                                                              1\n",
       "['IT/Software Development - Systems/EDP/MIS', 'IT/Software Development - DBA/Datawarehousing', 'IT/Software Development - System Programming/Middleware']       1\n",
       "['Quality Control/Assurance']                                                                                                                                   1\n",
       "['IT/Computers - Software', 'Courier/Freight/Transportation', 'Internet/E-commerce']                                                                            1\n",
       "Name: industry, Length: 76, dtype: int64"
      ]
     },
     "execution_count": 32,
     "metadata": {},
     "output_type": "execute_result"
    }
   ],
   "source": [
    "df['industry'].value_counts()"
   ]
  },
  {
   "cell_type": "markdown",
   "metadata": {},
   "source": [
    "### Unique number of companies"
   ]
  },
  {
   "cell_type": "code",
   "execution_count": 4,
   "metadata": {},
   "outputs": [
    {
     "data": {
      "text/plain": [
       "1555"
      ]
     },
     "execution_count": 4,
     "metadata": {},
     "output_type": "execute_result"
    }
   ],
   "source": [
    "len(df['company'].unique())"
   ]
  },
  {
   "cell_type": "markdown",
   "metadata": {},
   "source": [
    "### Counts of job types"
   ]
  },
  {
   "cell_type": "code",
   "execution_count": 5,
   "metadata": {},
   "outputs": [
    {
     "data": {
      "text/plain": [
       "permanent    8364\n",
       "contract       44\n",
       "Name: job_type, dtype: int64"
      ]
     },
     "execution_count": 5,
     "metadata": {},
     "output_type": "execute_result"
    }
   ],
   "source": [
    "df['job_type'].value_counts()"
   ]
  },
  {
   "cell_type": "markdown",
   "metadata": {},
   "source": [
    "### Upper and lower salary"
   ]
  },
  {
   "cell_type": "code",
   "execution_count": 6,
   "metadata": {},
   "outputs": [],
   "source": [
    "def salary_lower(x):\n",
    "    if type(x) != float:\n",
    "        x = x[1:-1].split(', ')\n",
    "        return [int(x[1:-1]) for x in x][0]\n",
    "    else:\n",
    "        return np.nan\n",
    "        \n",
    "def salary_upper(x):\n",
    "    if type(x) != float:\n",
    "        x = x[1:-1].split(', ')\n",
    "        return [int(x[1:-1]) for x in x][1]\n",
    "    else:\n",
    "        return np.nan\n",
    "pd.set_option('float_format', '{:f}'.format)\n",
    "df['salary_lower'] = df['salary'].apply(salary_lower)\n",
    "df['salary_upper'] = df['salary'].apply(salary_upper)"
   ]
  },
  {
   "cell_type": "code",
   "execution_count": 7,
   "metadata": {},
   "outputs": [
    {
     "data": {
      "text/plain": [
       "count      4770.000000\n",
       "mean      80350.363732\n",
       "std       86690.180288\n",
       "min           1.000000\n",
       "25%       48000.000000\n",
       "50%       72000.000000\n",
       "75%       96000.000000\n",
       "max     1800000.000000\n",
       "Name: salary_lower, dtype: float64"
      ]
     },
     "execution_count": 7,
     "metadata": {},
     "output_type": "execute_result"
    }
   ],
   "source": [
    "df['salary_lower'].describe()"
   ]
  },
  {
   "cell_type": "code",
   "execution_count": 8,
   "metadata": {},
   "outputs": [
    {
     "data": {
      "text/plain": [
       "count      4770.000000\n",
       "mean     137757.399790\n",
       "std      176217.730129\n",
       "min          12.000000\n",
       "25%       78000.000000\n",
       "50%      108000.000000\n",
       "75%      156000.000000\n",
       "max     2880000.000000\n",
       "Name: salary_upper, dtype: float64"
      ]
     },
     "execution_count": 8,
     "metadata": {},
     "output_type": "execute_result"
    }
   ],
   "source": [
    "df['salary_upper'].describe()"
   ]
  },
  {
   "cell_type": "markdown",
   "metadata": {},
   "source": [
    "### Average salary"
   ]
  },
  {
   "cell_type": "code",
   "execution_count": 9,
   "metadata": {},
   "outputs": [
    {
     "data": {
      "text/plain": [
       "0                NaN\n",
       "1                NaN\n",
       "2       30000.000000\n",
       "3       63000.000000\n",
       "4       70200.000000\n",
       "            ...     \n",
       "8410   132000.000000\n",
       "8411    72000.000000\n",
       "8412    28200.000000\n",
       "8413   180000.000000\n",
       "8414   144000.000000\n",
       "Name: salary_average, Length: 8415, dtype: float64"
      ]
     },
     "execution_count": 9,
     "metadata": {},
     "output_type": "execute_result"
    }
   ],
   "source": [
    "df['salary_average'] = (df['salary_upper'] + df['salary_lower'])/2\n",
    "df['salary_average']"
   ]
  },
  {
   "cell_type": "markdown",
   "metadata": {},
   "source": [
    "### Top 5 postings by salary"
   ]
  },
  {
   "cell_type": "code",
   "execution_count": 10,
   "metadata": {},
   "outputs": [
    {
     "data": {
      "text/html": [
       "<div>\n",
       "<style scoped>\n",
       "    .dataframe tbody tr th:only-of-type {\n",
       "        vertical-align: middle;\n",
       "    }\n",
       "\n",
       "    .dataframe tbody tr th {\n",
       "        vertical-align: top;\n",
       "    }\n",
       "\n",
       "    .dataframe thead th {\n",
       "        text-align: right;\n",
       "    }\n",
       "</style>\n",
       "<table border=\"1\" class=\"dataframe\">\n",
       "  <thead>\n",
       "    <tr style=\"text-align: right;\">\n",
       "      <th></th>\n",
       "      <th>job_title</th>\n",
       "      <th>company</th>\n",
       "      <th>salary</th>\n",
       "      <th>job_type</th>\n",
       "      <th>years_experience</th>\n",
       "      <th>tech_stack</th>\n",
       "      <th>job_description</th>\n",
       "      <th>industry</th>\n",
       "      <th>function</th>\n",
       "      <th>roles</th>\n",
       "      <th>date_posted</th>\n",
       "      <th>url</th>\n",
       "      <th>salary_lower</th>\n",
       "      <th>salary_upper</th>\n",
       "      <th>salary_average</th>\n",
       "    </tr>\n",
       "  </thead>\n",
       "  <tbody>\n",
       "    <tr>\n",
       "      <th>645</th>\n",
       "      <td>Sr. Partner Development Manager</td>\n",
       "      <td>Amazon Web Services Singapore Private Limited</td>\n",
       "      <td>['1500000', '2880000']</td>\n",
       "      <td>permanent</td>\n",
       "      <td>['10', '15']</td>\n",
       "      <td>['Web Services', 'Cloud Computing', 'Amazon We...</td>\n",
       "      <td>Would you like to be part of a team that is re...</td>\n",
       "      <td>['Other']</td>\n",
       "      <td>['IT']</td>\n",
       "      <td>['Other Software/Hardware/EDP']</td>\n",
       "      <td>2022-03-15</td>\n",
       "      <td>https://www.monster.com.sg/seeker/job-details?...</td>\n",
       "      <td>1500000.000000</td>\n",
       "      <td>2880000.000000</td>\n",
       "      <td>2190000.000000</td>\n",
       "    </tr>\n",
       "    <tr>\n",
       "      <th>6942</th>\n",
       "      <td>Sr. Partner Development Manager</td>\n",
       "      <td>Amazon Web Services Singapore Private Limited</td>\n",
       "      <td>['1500000', '2880000']</td>\n",
       "      <td>permanent</td>\n",
       "      <td>['10', '15']</td>\n",
       "      <td>['Tableau', 'Cloud Computing', 'Amazon Web Ser...</td>\n",
       "      <td>Job summary\\nAmazon Web Services (AWS) is lead...</td>\n",
       "      <td>['Other']</td>\n",
       "      <td>['IT']</td>\n",
       "      <td>['Other Software/Hardware/EDP']</td>\n",
       "      <td>2022-03-16</td>\n",
       "      <td>https://www.monster.com.sg/seeker/job-details?...</td>\n",
       "      <td>1500000.000000</td>\n",
       "      <td>2880000.000000</td>\n",
       "      <td>2190000.000000</td>\n",
       "    </tr>\n",
       "    <tr>\n",
       "      <th>644</th>\n",
       "      <td>Sr. Partner Development Manager</td>\n",
       "      <td>Amazon Web Services Singapore Private Limited</td>\n",
       "      <td>['1500000', '2880000']</td>\n",
       "      <td>permanent</td>\n",
       "      <td>['10', '15']</td>\n",
       "      <td>['Web Services', 'Cloud Computing', 'Amazon We...</td>\n",
       "      <td>Would you like to be part of a team that is re...</td>\n",
       "      <td>['Other']</td>\n",
       "      <td>['IT']</td>\n",
       "      <td>['Other Software/Hardware/EDP']</td>\n",
       "      <td>2022-03-15</td>\n",
       "      <td>https://www.monster.com.sg/seeker/job-details?...</td>\n",
       "      <td>1500000.000000</td>\n",
       "      <td>2880000.000000</td>\n",
       "      <td>2190000.000000</td>\n",
       "    </tr>\n",
       "    <tr>\n",
       "      <th>643</th>\n",
       "      <td>Sr. Partner Development Manager</td>\n",
       "      <td>Amazon Web Services Singapore Private Limited</td>\n",
       "      <td>['1500000', '2880000']</td>\n",
       "      <td>permanent</td>\n",
       "      <td>NaN</td>\n",
       "      <td>['Web Services', 'Cloud Computing', 'Amazon We...</td>\n",
       "      <td>Principal Partner Development Manager - Global...</td>\n",
       "      <td>['Other']</td>\n",
       "      <td>['IT']</td>\n",
       "      <td>['Other Software/Hardware/EDP']</td>\n",
       "      <td>2022-03-15</td>\n",
       "      <td>https://www.monster.com.sg/seeker/job-details?...</td>\n",
       "      <td>1500000.000000</td>\n",
       "      <td>2880000.000000</td>\n",
       "      <td>2190000.000000</td>\n",
       "    </tr>\n",
       "    <tr>\n",
       "      <th>642</th>\n",
       "      <td>Sr. Partner Development Manager</td>\n",
       "      <td>Amazon Web Services Singapore Private Limited</td>\n",
       "      <td>['1500000', '2880000']</td>\n",
       "      <td>permanent</td>\n",
       "      <td>['10', '15']</td>\n",
       "      <td>['Tableau', 'Cloud Computing', 'Amazon Web Ser...</td>\n",
       "      <td>Job summary\\nAmazon Web Services (AWS) is lead...</td>\n",
       "      <td>['Other']</td>\n",
       "      <td>['IT']</td>\n",
       "      <td>['Other Software/Hardware/EDP']</td>\n",
       "      <td>2022-03-15</td>\n",
       "      <td>https://www.monster.com.sg/seeker/job-details?...</td>\n",
       "      <td>1500000.000000</td>\n",
       "      <td>2880000.000000</td>\n",
       "      <td>2190000.000000</td>\n",
       "    </tr>\n",
       "  </tbody>\n",
       "</table>\n",
       "</div>"
      ],
      "text/plain": [
       "                            job_title  \\\n",
       "645   Sr. Partner Development Manager   \n",
       "6942  Sr. Partner Development Manager   \n",
       "644   Sr. Partner Development Manager   \n",
       "643   Sr. Partner Development Manager   \n",
       "642   Sr. Partner Development Manager   \n",
       "\n",
       "                                            company                  salary  \\\n",
       "645   Amazon Web Services Singapore Private Limited  ['1500000', '2880000']   \n",
       "6942  Amazon Web Services Singapore Private Limited  ['1500000', '2880000']   \n",
       "644   Amazon Web Services Singapore Private Limited  ['1500000', '2880000']   \n",
       "643   Amazon Web Services Singapore Private Limited  ['1500000', '2880000']   \n",
       "642   Amazon Web Services Singapore Private Limited  ['1500000', '2880000']   \n",
       "\n",
       "       job_type years_experience  \\\n",
       "645   permanent     ['10', '15']   \n",
       "6942  permanent     ['10', '15']   \n",
       "644   permanent     ['10', '15']   \n",
       "643   permanent              NaN   \n",
       "642   permanent     ['10', '15']   \n",
       "\n",
       "                                             tech_stack  \\\n",
       "645   ['Web Services', 'Cloud Computing', 'Amazon We...   \n",
       "6942  ['Tableau', 'Cloud Computing', 'Amazon Web Ser...   \n",
       "644   ['Web Services', 'Cloud Computing', 'Amazon We...   \n",
       "643   ['Web Services', 'Cloud Computing', 'Amazon We...   \n",
       "642   ['Tableau', 'Cloud Computing', 'Amazon Web Ser...   \n",
       "\n",
       "                                        job_description   industry function  \\\n",
       "645   Would you like to be part of a team that is re...  ['Other']   ['IT']   \n",
       "6942  Job summary\\nAmazon Web Services (AWS) is lead...  ['Other']   ['IT']   \n",
       "644   Would you like to be part of a team that is re...  ['Other']   ['IT']   \n",
       "643   Principal Partner Development Manager - Global...  ['Other']   ['IT']   \n",
       "642   Job summary\\nAmazon Web Services (AWS) is lead...  ['Other']   ['IT']   \n",
       "\n",
       "                                roles date_posted  \\\n",
       "645   ['Other Software/Hardware/EDP']  2022-03-15   \n",
       "6942  ['Other Software/Hardware/EDP']  2022-03-16   \n",
       "644   ['Other Software/Hardware/EDP']  2022-03-15   \n",
       "643   ['Other Software/Hardware/EDP']  2022-03-15   \n",
       "642   ['Other Software/Hardware/EDP']  2022-03-15   \n",
       "\n",
       "                                                    url   salary_lower  \\\n",
       "645   https://www.monster.com.sg/seeker/job-details?... 1500000.000000   \n",
       "6942  https://www.monster.com.sg/seeker/job-details?... 1500000.000000   \n",
       "644   https://www.monster.com.sg/seeker/job-details?... 1500000.000000   \n",
       "643   https://www.monster.com.sg/seeker/job-details?... 1500000.000000   \n",
       "642   https://www.monster.com.sg/seeker/job-details?... 1500000.000000   \n",
       "\n",
       "       salary_upper  salary_average  \n",
       "645  2880000.000000  2190000.000000  \n",
       "6942 2880000.000000  2190000.000000  \n",
       "644  2880000.000000  2190000.000000  \n",
       "643  2880000.000000  2190000.000000  \n",
       "642  2880000.000000  2190000.000000  "
      ]
     },
     "execution_count": 10,
     "metadata": {},
     "output_type": "execute_result"
    }
   ],
   "source": [
    "# df.groupby(['company']).describe().head(5)\n",
    "df.sort_values(by=['salary_average'], ascending=False).head()"
   ]
  },
  {
   "cell_type": "markdown",
   "metadata": {},
   "source": [
    "### Upper and lower years of experience\n"
   ]
  },
  {
   "cell_type": "code",
   "execution_count": 11,
   "metadata": {},
   "outputs": [],
   "source": [
    "def experience_lower(x):\n",
    "    if type(x) != float:\n",
    "        x = x[1:-1].split(', ')\n",
    "        if x[0][0] == \"'\":\n",
    "            return [int(x[1:-1]) for x in x][0]\n",
    "        else:\n",
    "            return [int(x) for x in x][0]\n",
    "    else:\n",
    "        return np.nan\n",
    "        \n",
    "def experience_upper(x):\n",
    "    if type(x) != float:\n",
    "        x = x[1:-1].split(', ')\n",
    "        if x[0][0] == \"'\":\n",
    "            return [int(x[1:-1]) for x in x][1]\n",
    "        else:\n",
    "            return [int(x) for x in x][1]\n",
    "    else:\n",
    "        return np.nan\n",
    "\n",
    "df['experience_lower'] = df['years_experience'].apply(experience_lower)\n",
    "df['experience_upper'] = df['years_experience'].apply(experience_upper)"
   ]
  },
  {
   "cell_type": "code",
   "execution_count": 12,
   "metadata": {},
   "outputs": [
    {
     "data": {
      "text/plain": [
       "count   7340.000000\n",
       "mean       4.689918\n",
       "std        3.217176\n",
       "min        0.000000\n",
       "25%        2.000000\n",
       "50%        5.000000\n",
       "75%        7.000000\n",
       "max       18.000000\n",
       "Name: experience_lower, dtype: float64"
      ]
     },
     "execution_count": 12,
     "metadata": {},
     "output_type": "execute_result"
    }
   ],
   "source": [
    "df['experience_lower'].describe()"
   ]
  },
  {
   "cell_type": "code",
   "execution_count": 13,
   "metadata": {},
   "outputs": [
    {
     "data": {
      "text/plain": [
       "count   7340.000000\n",
       "mean       7.528065\n",
       "std        3.660724\n",
       "min        0.000000\n",
       "25%        5.000000\n",
       "50%        7.000000\n",
       "75%       10.000000\n",
       "max       21.000000\n",
       "Name: experience_upper, dtype: float64"
      ]
     },
     "execution_count": 13,
     "metadata": {},
     "output_type": "execute_result"
    }
   ],
   "source": [
    "df['experience_upper'].describe()"
   ]
  },
  {
   "cell_type": "markdown",
   "metadata": {},
   "source": [
    "##"
   ]
  },
  {
   "cell_type": "code",
   "execution_count": null,
   "metadata": {},
   "outputs": [],
   "source": []
  }
 ],
 "metadata": {
  "interpreter": {
   "hash": "3cd16eb8e582d7d6b49c2813b47f0bb6a870ff782f32cd01f99b0ca03cfbd006"
  },
  "kernelspec": {
   "display_name": "Python 3.9.7 ('tensorflow')",
   "language": "python",
   "name": "python3"
  },
  "language_info": {
   "codemirror_mode": {
    "name": "ipython",
    "version": 3
   },
   "file_extension": ".py",
   "mimetype": "text/x-python",
   "name": "python",
   "nbconvert_exporter": "python",
   "pygments_lexer": "ipython3",
   "version": "3.9.7"
  },
  "orig_nbformat": 4
 },
 "nbformat": 4,
 "nbformat_minor": 2
}
