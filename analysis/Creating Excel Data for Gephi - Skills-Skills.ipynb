{
 "cells": [
  {
   "cell_type": "code",
   "execution_count": 1,
   "metadata": {},
   "outputs": [],
   "source": [
    "import pandas as pd\n",
    "import re\n",
    "import os"
   ]
  },
  {
   "cell_type": "code",
   "execution_count": 5,
   "metadata": {},
   "outputs": [],
   "source": [
    "df = pd.read_json(\"../data/cleaned/filtered_data.json\")"
   ]
  },
  {
   "cell_type": "code",
   "execution_count": 6,
   "metadata": {},
   "outputs": [
    {
     "data": {
      "text/html": [
       "<div>\n",
       "<style scoped>\n",
       "    .dataframe tbody tr th:only-of-type {\n",
       "        vertical-align: middle;\n",
       "    }\n",
       "\n",
       "    .dataframe tbody tr th {\n",
       "        vertical-align: top;\n",
       "    }\n",
       "\n",
       "    .dataframe thead th {\n",
       "        text-align: right;\n",
       "    }\n",
       "</style>\n",
       "<table border=\"1\" class=\"dataframe\">\n",
       "  <thead>\n",
       "    <tr style=\"text-align: right;\">\n",
       "      <th></th>\n",
       "      <th>job_title</th>\n",
       "      <th>company_name</th>\n",
       "      <th>job_type</th>\n",
       "      <th>industry</th>\n",
       "      <th>date_posted</th>\n",
       "      <th>url</th>\n",
       "      <th>source</th>\n",
       "      <th>lower_salary</th>\n",
       "      <th>upper_salary</th>\n",
       "      <th>lower_year</th>\n",
       "      <th>upper_year</th>\n",
       "      <th>all_tech_stack</th>\n",
       "      <th>education_level</th>\n",
       "      <th>education_field</th>\n",
       "      <th>cleaned_job_desc</th>\n",
       "      <th>aws</th>\n",
       "      <th>google_cloud</th>\n",
       "      <th>azure</th>\n",
       "      <th>cluster</th>\n",
       "    </tr>\n",
       "  </thead>\n",
       "  <tbody>\n",
       "    <tr>\n",
       "      <th>0</th>\n",
       "      <td>Senior Python Developer</td>\n",
       "      <td>citi</td>\n",
       "      <td>permanent</td>\n",
       "      <td>Banking/Accounting/Financial Services</td>\n",
       "      <td>2022-02-18</td>\n",
       "      <td>https://www.monster.com.sg/seeker/job-details?...</td>\n",
       "      <td>monster</td>\n",
       "      <td>NaN</td>\n",
       "      <td>NaN</td>\n",
       "      <td>NaN</td>\n",
       "      <td>NaN</td>\n",
       "      <td>[RabbitMQ, Tableau Dashboards, Bitbucket, SOAP...</td>\n",
       "      <td>[]</td>\n",
       "      <td>[]</td>\n",
       "      <td>job description      job purpose   we are look...</td>\n",
       "      <td>1</td>\n",
       "      <td>1</td>\n",
       "      <td>0</td>\n",
       "      <td>Software Developer</td>\n",
       "    </tr>\n",
       "    <tr>\n",
       "      <th>1</th>\n",
       "      <td>Senior Partner Solutions Architect (Microsoft)</td>\n",
       "      <td>amazon</td>\n",
       "      <td>permanent</td>\n",
       "      <td>Internet/E-commerce</td>\n",
       "      <td>2022-02-18</td>\n",
       "      <td>https://www.monster.com.sg/seeker/job-details?...</td>\n",
       "      <td>monster</td>\n",
       "      <td>NaN</td>\n",
       "      <td>NaN</td>\n",
       "      <td>NaN</td>\n",
       "      <td>NaN</td>\n",
       "      <td>[Queue, Containers, Azure, RFPs, Microsoft ELA...</td>\n",
       "      <td>[Master's]</td>\n",
       "      <td>[]</td>\n",
       "      <td>job description    job summary  description  d...</td>\n",
       "      <td>1</td>\n",
       "      <td>1</td>\n",
       "      <td>1</td>\n",
       "      <td>Solutions Architect</td>\n",
       "    </tr>\n",
       "    <tr>\n",
       "      <th>7</th>\n",
       "      <td>Cloud Engineer (Automation)</td>\n",
       "      <td>recruit expert pte. ltd.</td>\n",
       "      <td>permanent</td>\n",
       "      <td>Employment agency</td>\n",
       "      <td>2022-02-19</td>\n",
       "      <td>https://www.monster.com.sg/seeker/job-details?...</td>\n",
       "      <td>monster</td>\n",
       "      <td>48000.0</td>\n",
       "      <td>66000.0</td>\n",
       "      <td>2</td>\n",
       "      <td>5</td>\n",
       "      <td>[Cloud, OpenStack, Ansible, Cloud robotics, Op...</td>\n",
       "      <td>[Master's, Bachelor's]</td>\n",
       "      <td>[Relevant Field, Information Technology, Compu...</td>\n",
       "      <td>in charge of the design  deployment  installat...</td>\n",
       "      <td>0</td>\n",
       "      <td>0</td>\n",
       "      <td>0</td>\n",
       "      <td>Cloud Engineer</td>\n",
       "    </tr>\n",
       "  </tbody>\n",
       "</table>\n",
       "</div>"
      ],
      "text/plain": [
       "                                        job_title              company_name  \\\n",
       "0                         Senior Python Developer                      citi   \n",
       "1  Senior Partner Solutions Architect (Microsoft)                    amazon   \n",
       "7                     Cloud Engineer (Automation)  recruit expert pte. ltd.   \n",
       "\n",
       "    job_type                               industry date_posted  \\\n",
       "0  permanent  Banking/Accounting/Financial Services  2022-02-18   \n",
       "1  permanent                    Internet/E-commerce  2022-02-18   \n",
       "7  permanent                      Employment agency  2022-02-19   \n",
       "\n",
       "                                                 url   source  lower_salary  \\\n",
       "0  https://www.monster.com.sg/seeker/job-details?...  monster           NaN   \n",
       "1  https://www.monster.com.sg/seeker/job-details?...  monster           NaN   \n",
       "7  https://www.monster.com.sg/seeker/job-details?...  monster       48000.0   \n",
       "\n",
       "   upper_salary lower_year upper_year  \\\n",
       "0           NaN        NaN        NaN   \n",
       "1           NaN        NaN        NaN   \n",
       "7       66000.0          2          5   \n",
       "\n",
       "                                      all_tech_stack         education_level  \\\n",
       "0  [RabbitMQ, Tableau Dashboards, Bitbucket, SOAP...                      []   \n",
       "1  [Queue, Containers, Azure, RFPs, Microsoft ELA...              [Master's]   \n",
       "7  [Cloud, OpenStack, Ansible, Cloud robotics, Op...  [Master's, Bachelor's]   \n",
       "\n",
       "                                     education_field  \\\n",
       "0                                                 []   \n",
       "1                                                 []   \n",
       "7  [Relevant Field, Information Technology, Compu...   \n",
       "\n",
       "                                    cleaned_job_desc  aws  google_cloud  \\\n",
       "0  job description      job purpose   we are look...    1             1   \n",
       "1  job description    job summary  description  d...    1             1   \n",
       "7  in charge of the design  deployment  installat...    0             0   \n",
       "\n",
       "   azure              cluster  \n",
       "0      0   Software Developer  \n",
       "1      1  Solutions Architect  \n",
       "7      0       Cloud Engineer  "
      ]
     },
     "execution_count": 6,
     "metadata": {},
     "output_type": "execute_result"
    }
   ],
   "source": [
    "df.head(3)"
   ]
  },
  {
   "cell_type": "markdown",
   "metadata": {},
   "source": [
    "## Extracting out skills-skills pairing"
   ]
  },
  {
   "cell_type": "code",
   "execution_count": 39,
   "metadata": {},
   "outputs": [],
   "source": [
    "skills_list = df['all_tech_stack']"
   ]
  },
  {
   "cell_type": "code",
   "execution_count": 66,
   "metadata": {},
   "outputs": [],
   "source": [
    "start_index = 5001\n",
    "end_index = 5406"
   ]
  },
  {
   "cell_type": "code",
   "execution_count": 67,
   "metadata": {},
   "outputs": [
    {
     "name": "stdout",
     "output_type": "stream",
     "text": [
      "5100\n",
      "5200\n",
      "5300\n",
      "5400\n"
     ]
    }
   ],
   "source": [
    "from itertools import combinations\n",
    "\n",
    "skills = pd.DataFrame(columns = ['tech_1', 'tech_2'])\n",
    "\n",
    "def find_interaction(list_name, df):\n",
    "    all_combi = combinations(list(list_name), 2)\n",
    "    for i in all_combi:\n",
    "        new_row = pd.DataFrame({'tech_1':i[0],'tech_2':i[1]}, columns = ['tech_1', 'tech_2'], index=[0])\n",
    "        df = df.append(new_row)\n",
    "    return df\n",
    "\n",
    "count = start_index\n",
    "for i in skills_list[start_index: end_index]: \n",
    "    skills = find_interaction(i, skills)\n",
    "    if count % 100 == 0:\n",
    "        print(count)\n",
    "    count += 1"
   ]
  },
  {
   "cell_type": "code",
   "execution_count": 69,
   "metadata": {},
   "outputs": [
    {
     "data": {
      "text/html": [
       "<div>\n",
       "<style scoped>\n",
       "    .dataframe tbody tr th:only-of-type {\n",
       "        vertical-align: middle;\n",
       "    }\n",
       "\n",
       "    .dataframe tbody tr th {\n",
       "        vertical-align: top;\n",
       "    }\n",
       "\n",
       "    .dataframe thead th {\n",
       "        text-align: right;\n",
       "    }\n",
       "</style>\n",
       "<table border=\"1\" class=\"dataframe\">\n",
       "  <thead>\n",
       "    <tr style=\"text-align: right;\">\n",
       "      <th></th>\n",
       "      <th>tech_1</th>\n",
       "      <th>tech_2</th>\n",
       "    </tr>\n",
       "  </thead>\n",
       "  <tbody>\n",
       "    <tr>\n",
       "      <th>0</th>\n",
       "      <td>Payments</td>\n",
       "      <td>React</td>\n",
       "    </tr>\n",
       "    <tr>\n",
       "      <th>0</th>\n",
       "      <td>Payments</td>\n",
       "      <td>SECOM</td>\n",
       "    </tr>\n",
       "    <tr>\n",
       "      <th>0</th>\n",
       "      <td>Payments</td>\n",
       "      <td>REST</td>\n",
       "    </tr>\n",
       "    <tr>\n",
       "      <th>0</th>\n",
       "      <td>Payments</td>\n",
       "      <td>Develop</td>\n",
       "    </tr>\n",
       "    <tr>\n",
       "      <th>0</th>\n",
       "      <td>Payments</td>\n",
       "      <td>Motivated</td>\n",
       "    </tr>\n",
       "    <tr>\n",
       "      <th>...</th>\n",
       "      <td>...</td>\n",
       "      <td>...</td>\n",
       "    </tr>\n",
       "    <tr>\n",
       "      <th>0</th>\n",
       "      <td>client success</td>\n",
       "      <td>SQL</td>\n",
       "    </tr>\n",
       "    <tr>\n",
       "      <th>0</th>\n",
       "      <td>client success</td>\n",
       "      <td>Bachelor’s</td>\n",
       "    </tr>\n",
       "    <tr>\n",
       "      <th>0</th>\n",
       "      <td>Responsibilities Qualifications</td>\n",
       "      <td>SQL</td>\n",
       "    </tr>\n",
       "    <tr>\n",
       "      <th>0</th>\n",
       "      <td>Responsibilities Qualifications</td>\n",
       "      <td>Bachelor’s</td>\n",
       "    </tr>\n",
       "    <tr>\n",
       "      <th>0</th>\n",
       "      <td>SQL</td>\n",
       "      <td>Bachelor’s</td>\n",
       "    </tr>\n",
       "  </tbody>\n",
       "</table>\n",
       "<p>377706 rows × 2 columns</p>\n",
       "</div>"
      ],
      "text/plain": [
       "                             tech_1      tech_2\n",
       "0                          Payments       React\n",
       "0                          Payments       SECOM\n",
       "0                          Payments        REST\n",
       "0                          Payments     Develop\n",
       "0                          Payments   Motivated\n",
       "..                              ...         ...\n",
       "0                    client success         SQL\n",
       "0                    client success  Bachelor’s\n",
       "0   Responsibilities Qualifications         SQL\n",
       "0   Responsibilities Qualifications  Bachelor’s\n",
       "0                               SQL  Bachelor’s\n",
       "\n",
       "[377706 rows x 2 columns]"
      ]
     },
     "execution_count": 69,
     "metadata": {},
     "output_type": "execute_result"
    }
   ],
   "source": [
    "skills"
   ]
  },
  {
   "cell_type": "code",
   "execution_count": 70,
   "metadata": {},
   "outputs": [],
   "source": [
    "skills.to_csv('skills-skills_5001-5405.csv', index=False)"
   ]
  },
  {
   "cell_type": "markdown",
   "metadata": {},
   "source": [
    "## Combine all skills-skills csv"
   ]
  },
  {
   "cell_type": "code",
   "execution_count": null,
   "metadata": {},
   "outputs": [],
   "source": [
    "import os "
   ]
  },
  {
   "cell_type": "code",
   "execution_count": 71,
   "metadata": {},
   "outputs": [
    {
     "data": {
      "text/plain": [
       "['all_service_provider.csv',\n",
       " 'aws.csv',\n",
       " 'aws_filtered.csv',\n",
       " 'azure.csv',\n",
       " 'azure_filtered.csv',\n",
       " 'combined_data.csv',\n",
       " 'combined_data.json',\n",
       " 'count_role.ipynb',\n",
       " 'filtered_data.json',\n",
       " 'filtered_job_roles.csv',\n",
       " 'google.csv',\n",
       " 'google_filtered.csv',\n",
       " 'individual_platforms',\n",
       " 'jobtitle_skills_edges.csv',\n",
       " 'jobtitle_skills_nodes.csv',\n",
       " 'job_skills_all_edges.csv',\n",
       " 'job_skills_all_nodes.csv',\n",
       " 'job_skills_aws_edges.csv',\n",
       " 'job_skills_aws_nodes.csv',\n",
       " 'job_skills_azure_edges.csv',\n",
       " 'job_skills_azure_nodes.csv',\n",
       " 'job_skills_google_edges.csv',\n",
       " 'job_skills_google_nodes.csv',\n",
       " 'Posts_Industry.csv',\n",
       " 'skills-skills_0-1549.csv',\n",
       " 'skills-skills_1550-2329.csv',\n",
       " 'skills-skills_2330-3099.csv',\n",
       " 'skills-skills_3100-3869.csv',\n",
       " 'skills-skills_3870-4640.csv',\n",
       " 'skills-skills_4640-5000.csv',\n",
       " 'skills-skills_5001-5405.csv',\n",
       " 'unfiltered_df.csv']"
      ]
     },
     "execution_count": 71,
     "metadata": {},
     "output_type": "execute_result"
    }
   ],
   "source": [
    "# Change directory\n",
    "directory = os. chdir(\"../data/cleaned/\")\n",
    "files = os.listdir(\".\")\n",
    "files"
   ]
  },
  {
   "cell_type": "code",
   "execution_count": 72,
   "metadata": {},
   "outputs": [
    {
     "data": {
      "text/plain": [
       "['skills-skills_0-1549.csv',\n",
       " 'skills-skills_1550-2329.csv',\n",
       " 'skills-skills_2330-3099.csv',\n",
       " 'skills-skills_3100-3869.csv',\n",
       " 'skills-skills_3870-4640.csv',\n",
       " 'skills-skills_4640-5000.csv',\n",
       " 'skills-skills_5001-5405.csv']"
      ]
     },
     "execution_count": 72,
     "metadata": {},
     "output_type": "execute_result"
    }
   ],
   "source": [
    "relevant_csv = [x for x in files if 'skills-skills' in x]\n",
    "relevant_csv"
   ]
  },
  {
   "cell_type": "code",
   "execution_count": 73,
   "metadata": {},
   "outputs": [
    {
     "data": {
      "text/html": [
       "<div>\n",
       "<style scoped>\n",
       "    .dataframe tbody tr th:only-of-type {\n",
       "        vertical-align: middle;\n",
       "    }\n",
       "\n",
       "    .dataframe tbody tr th {\n",
       "        vertical-align: top;\n",
       "    }\n",
       "\n",
       "    .dataframe thead th {\n",
       "        text-align: right;\n",
       "    }\n",
       "</style>\n",
       "<table border=\"1\" class=\"dataframe\">\n",
       "  <thead>\n",
       "    <tr style=\"text-align: right;\">\n",
       "      <th></th>\n",
       "      <th>tech_1</th>\n",
       "      <th>tech_2</th>\n",
       "    </tr>\n",
       "  </thead>\n",
       "  <tbody>\n",
       "    <tr>\n",
       "      <th>0</th>\n",
       "      <td>RabbitMQ</td>\n",
       "      <td>Tableau Dashboards</td>\n",
       "    </tr>\n",
       "    <tr>\n",
       "      <th>1</th>\n",
       "      <td>RabbitMQ</td>\n",
       "      <td>Bitbucket</td>\n",
       "    </tr>\n",
       "    <tr>\n",
       "      <th>2</th>\n",
       "      <td>RabbitMQ</td>\n",
       "      <td>SOAP</td>\n",
       "    </tr>\n",
       "    <tr>\n",
       "      <th>3</th>\n",
       "      <td>RabbitMQ</td>\n",
       "      <td>Container</td>\n",
       "    </tr>\n",
       "    <tr>\n",
       "      <th>4</th>\n",
       "      <td>RabbitMQ</td>\n",
       "      <td>Citigroup Inc</td>\n",
       "    </tr>\n",
       "    <tr>\n",
       "      <th>...</th>\n",
       "      <td>...</td>\n",
       "      <td>...</td>\n",
       "    </tr>\n",
       "    <tr>\n",
       "      <th>4369169</th>\n",
       "      <td>client success</td>\n",
       "      <td>SQL</td>\n",
       "    </tr>\n",
       "    <tr>\n",
       "      <th>4369170</th>\n",
       "      <td>client success</td>\n",
       "      <td>Bachelor’s</td>\n",
       "    </tr>\n",
       "    <tr>\n",
       "      <th>4369171</th>\n",
       "      <td>Responsibilities Qualifications</td>\n",
       "      <td>SQL</td>\n",
       "    </tr>\n",
       "    <tr>\n",
       "      <th>4369172</th>\n",
       "      <td>Responsibilities Qualifications</td>\n",
       "      <td>Bachelor’s</td>\n",
       "    </tr>\n",
       "    <tr>\n",
       "      <th>4369173</th>\n",
       "      <td>SQL</td>\n",
       "      <td>Bachelor’s</td>\n",
       "    </tr>\n",
       "  </tbody>\n",
       "</table>\n",
       "<p>4369174 rows × 2 columns</p>\n",
       "</div>"
      ],
      "text/plain": [
       "                                  tech_1              tech_2\n",
       "0                               RabbitMQ  Tableau Dashboards\n",
       "1                               RabbitMQ           Bitbucket\n",
       "2                               RabbitMQ                SOAP\n",
       "3                               RabbitMQ           Container\n",
       "4                               RabbitMQ       Citigroup Inc\n",
       "...                                  ...                 ...\n",
       "4369169                   client success                 SQL\n",
       "4369170                   client success          Bachelor’s\n",
       "4369171  Responsibilities Qualifications                 SQL\n",
       "4369172  Responsibilities Qualifications          Bachelor’s\n",
       "4369173                              SQL          Bachelor’s\n",
       "\n",
       "[4369174 rows x 2 columns]"
      ]
     },
     "execution_count": 73,
     "metadata": {},
     "output_type": "execute_result"
    }
   ],
   "source": [
    "final_df = pd.concat(map(pd.read_csv, relevant_csv), ignore_index=True, axis=0)\n",
    "final_df"
   ]
  },
  {
   "cell_type": "code",
   "execution_count": 74,
   "metadata": {},
   "outputs": [],
   "source": [
    "final_df.to_csv('skills-skills.csv', index=False)"
   ]
  },
  {
   "cell_type": "code",
   "execution_count": null,
   "metadata": {},
   "outputs": [],
   "source": []
  }
 ],
 "metadata": {
  "kernelspec": {
   "display_name": "Python 3 (ipykernel)",
   "language": "python",
   "name": "python3"
  },
  "language_info": {
   "codemirror_mode": {
    "name": "ipython",
    "version": 3
   },
   "file_extension": ".py",
   "mimetype": "text/x-python",
   "name": "python",
   "nbconvert_exporter": "python",
   "pygments_lexer": "ipython3",
   "version": "3.7.4"
  }
 },
 "nbformat": 4,
 "nbformat_minor": 4
}
