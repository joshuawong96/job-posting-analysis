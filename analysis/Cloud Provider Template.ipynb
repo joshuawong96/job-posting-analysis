{
 "cells": [
  {
   "cell_type": "code",
   "execution_count": 1,
   "metadata": {},
   "outputs": [],
   "source": [
    "import pandas as pd\n",
    "import numpy as np\n",
    "import re\n",
    "import os"
   ]
  },
  {
   "cell_type": "code",
   "execution_count": 2,
   "metadata": {},
   "outputs": [],
   "source": [
    "base_directory = \"C:/Users/limst/Documents/github/job-posting-analysis\""
   ]
  },
  {
   "cell_type": "markdown",
   "metadata": {},
   "source": [
    "### Monstersg"
   ]
  },
  {
   "cell_type": "code",
   "execution_count": 3,
   "metadata": {},
   "outputs": [
    {
     "data": {
      "text/plain": [
       "['.ipynb_checkpoints',\n",
       " 'All_MonsterSg.csv',\n",
       " 'Cloud Computing_MonsterSg.csv',\n",
       " 'Cloud_MonsterSg.csv',\n",
       " 'LinkedIn.csv']"
      ]
     },
     "execution_count": 3,
     "metadata": {},
     "output_type": "execute_result"
    }
   ],
   "source": [
    "directory = os.chdir(f\"{base_directory}/data/cleaned/\")\n",
    "files = os.listdir(\".\")\n",
    "files"
   ]
  },
  {
   "cell_type": "code",
   "execution_count": 4,
   "metadata": {},
   "outputs": [
    {
     "data": {
      "text/html": [
       "<div>\n",
       "<style scoped>\n",
       "    .dataframe tbody tr th:only-of-type {\n",
       "        vertical-align: middle;\n",
       "    }\n",
       "\n",
       "    .dataframe tbody tr th {\n",
       "        vertical-align: top;\n",
       "    }\n",
       "\n",
       "    .dataframe thead th {\n",
       "        text-align: right;\n",
       "    }\n",
       "</style>\n",
       "<table border=\"1\" class=\"dataframe\">\n",
       "  <thead>\n",
       "    <tr style=\"text-align: right;\">\n",
       "      <th></th>\n",
       "      <th>job_title</th>\n",
       "      <th>company</th>\n",
       "      <th>salary</th>\n",
       "      <th>job_type</th>\n",
       "      <th>years_experience</th>\n",
       "      <th>tech_stack</th>\n",
       "      <th>job_description</th>\n",
       "      <th>industry</th>\n",
       "      <th>function</th>\n",
       "      <th>roles</th>\n",
       "      <th>date_posted</th>\n",
       "      <th>url</th>\n",
       "    </tr>\n",
       "  </thead>\n",
       "  <tbody>\n",
       "    <tr>\n",
       "      <th>0</th>\n",
       "      <td>Senior Python Developer</td>\n",
       "      <td>Citi</td>\n",
       "      <td>NaN</td>\n",
       "      <td>permanent</td>\n",
       "      <td>NaN</td>\n",
       "      <td>NaN</td>\n",
       "      <td>Job Description :\\r\\n\\r\\nJob Purpose:\\r\\nWe ar...</td>\n",
       "      <td>['Banking/Accounting/Financial Services']</td>\n",
       "      <td>['IT']</td>\n",
       "      <td>['Software Engineer/Programmer']</td>\n",
       "      <td>2022-02-18</td>\n",
       "      <td>https://www.monster.com.sg/seeker/job-details?...</td>\n",
       "    </tr>\n",
       "    <tr>\n",
       "      <th>1</th>\n",
       "      <td>Senior Partner Solutions Architect (Microsoft)</td>\n",
       "      <td>Amazon</td>\n",
       "      <td>NaN</td>\n",
       "      <td>permanent</td>\n",
       "      <td>NaN</td>\n",
       "      <td>NaN</td>\n",
       "      <td>Job Description :\\r\\nJob summary\\r\\nDESCRIPTIO...</td>\n",
       "      <td>['Internet/E-commerce']</td>\n",
       "      <td>['IT']</td>\n",
       "      <td>['Software Engineer/Programmer']</td>\n",
       "      <td>2022-02-18</td>\n",
       "      <td>https://www.monster.com.sg/seeker/job-details?...</td>\n",
       "    </tr>\n",
       "    <tr>\n",
       "      <th>2</th>\n",
       "      <td>IT Technician</td>\n",
       "      <td>Ascend Com Pte. Ltd.</td>\n",
       "      <td>['24000', '36000']</td>\n",
       "      <td>permanent</td>\n",
       "      <td>['2', '5']</td>\n",
       "      <td>['Switches', 'Mac', 'Windows 10', 'Cloud Compu...</td>\n",
       "      <td>Responsibilities:\\r\\nProvide helpdesk support ...</td>\n",
       "      <td>['Other']</td>\n",
       "      <td>['IT']</td>\n",
       "      <td>['Other Software/Hardware/EDP']</td>\n",
       "      <td>2022-02-19</td>\n",
       "      <td>https://www.monster.com.sg/seeker/job-details?...</td>\n",
       "    </tr>\n",
       "  </tbody>\n",
       "</table>\n",
       "</div>"
      ],
      "text/plain": [
       "                                        job_title               company  \\\n",
       "0                         Senior Python Developer                  Citi   \n",
       "1  Senior Partner Solutions Architect (Microsoft)                Amazon   \n",
       "2                                   IT Technician  Ascend Com Pte. Ltd.   \n",
       "\n",
       "               salary   job_type years_experience  \\\n",
       "0                 NaN  permanent              NaN   \n",
       "1                 NaN  permanent              NaN   \n",
       "2  ['24000', '36000']  permanent       ['2', '5']   \n",
       "\n",
       "                                          tech_stack  \\\n",
       "0                                                NaN   \n",
       "1                                                NaN   \n",
       "2  ['Switches', 'Mac', 'Windows 10', 'Cloud Compu...   \n",
       "\n",
       "                                     job_description  \\\n",
       "0  Job Description :\\r\\n\\r\\nJob Purpose:\\r\\nWe ar...   \n",
       "1  Job Description :\\r\\nJob summary\\r\\nDESCRIPTIO...   \n",
       "2  Responsibilities:\\r\\nProvide helpdesk support ...   \n",
       "\n",
       "                                    industry function  \\\n",
       "0  ['Banking/Accounting/Financial Services']   ['IT']   \n",
       "1                    ['Internet/E-commerce']   ['IT']   \n",
       "2                                  ['Other']   ['IT']   \n",
       "\n",
       "                              roles date_posted  \\\n",
       "0  ['Software Engineer/Programmer']  2022-02-18   \n",
       "1  ['Software Engineer/Programmer']  2022-02-18   \n",
       "2   ['Other Software/Hardware/EDP']  2022-02-19   \n",
       "\n",
       "                                                 url  \n",
       "0  https://www.monster.com.sg/seeker/job-details?...  \n",
       "1  https://www.monster.com.sg/seeker/job-details?...  \n",
       "2  https://www.monster.com.sg/seeker/job-details?...  "
      ]
     },
     "execution_count": 4,
     "metadata": {},
     "output_type": "execute_result"
    }
   ],
   "source": [
    "monster_df = pd.read_csv('All_MonsterSg.csv') \n",
    "monster_df.head(3)"
   ]
  },
  {
   "cell_type": "code",
   "execution_count": 48,
   "metadata": {},
   "outputs": [
    {
     "data": {
      "text/plain": [
       "0    Job Description :\\r\\n\\r\\nJob Purpose:\\r\\nWe ar...\n",
       "1    Job Description :\\r\\nJob summary\\r\\nDESCRIPTIO...\n",
       "2    Responsibilities:\\r\\nProvide helpdesk support ...\n",
       "Name: job_description, dtype: object"
      ]
     },
     "execution_count": 48,
     "metadata": {},
     "output_type": "execute_result"
    }
   ],
   "source": [
    "monster_job_description = monster_df['job_description']\n",
    "monster_job_description.head(3)"
   ]
  },
  {
   "cell_type": "markdown",
   "metadata": {},
   "source": [
    "### Cleaning Data"
   ]
  },
  {
   "cell_type": "code",
   "execution_count": 49,
   "metadata": {},
   "outputs": [
    {
     "data": {
      "text/plain": [
       "0       Job Description :\\r\\n\\r\\nJob Purpose:\\r\\nWe ar...\n",
       "1       Job Description :\\r\\nJob summary\\r\\nDESCRIPTIO...\n",
       "2       Responsibilities:\\r\\nProvide helpdesk support ...\n",
       "3       Key Responsibilities\\r\\nPerforms all standard ...\n",
       "4       Has developed specialized skills or is multi-s...\n",
       "                              ...                        \n",
       "8410    Job Description:\\r\\nResponsible for overall pl...\n",
       "8411    Job Description:\\r\\nThe Senior Developer, IT p...\n",
       "8412    Location: Paya Lebar\\r\\nWorking hours:   ( shi...\n",
       "8413    As a Director, you will be responsible for man...\n",
       "8414    About the company\\r\\nOur Client is a market le...\n",
       "Name: job_description, Length: 8415, dtype: object"
      ]
     },
     "execution_count": 49,
     "metadata": {},
     "output_type": "execute_result"
    }
   ],
   "source": [
    "monster_job_description = monster_job_description.apply(lambda x: re.sub(r'\\w*\\d\\w*','', str(x)))\n",
    "monster_job_description"
   ]
  },
  {
   "cell_type": "code",
   "execution_count": 50,
   "metadata": {},
   "outputs": [
    {
     "data": {
      "text/plain": [
       "0       job description :\\r\\n\\r\\njob purpose:\\r\\nwe ar...\n",
       "1       job description :\\r\\njob summary\\r\\ndescriptio...\n",
       "2       responsibilities:\\r\\nprovide helpdesk support ...\n",
       "3       key responsibilities\\r\\nperforms all standard ...\n",
       "4       has developed specialized skills or is multi-s...\n",
       "                              ...                        \n",
       "8410    job description:\\r\\nresponsible for overall pl...\n",
       "8411    job description:\\r\\nthe senior developer, it p...\n",
       "8412    location: paya lebar\\r\\nworking hours:   ( shi...\n",
       "8413    as a director, you will be responsible for man...\n",
       "8414    about the company\\r\\nour client is a market le...\n",
       "Name: job_description, Length: 8415, dtype: object"
      ]
     },
     "execution_count": 50,
     "metadata": {},
     "output_type": "execute_result"
    }
   ],
   "source": [
    "monster_job_description = monster_job_description.apply(lambda x: x.lower())\n",
    "monster_job_description"
   ]
  },
  {
   "cell_type": "code",
   "execution_count": 51,
   "metadata": {},
   "outputs": [],
   "source": [
    "monster_job_description = monster_job_description.to_frame(name='job_description')"
   ]
  },
  {
   "cell_type": "markdown",
   "metadata": {},
   "source": [
    "### Different Cloud Provider"
   ]
  },
  {
   "cell_type": "code",
   "execution_count": 52,
   "metadata": {},
   "outputs": [],
   "source": [
    "monster_job_description['AWS'] = 0\n",
    "monster_job_description['GCP'] = 0\n",
    "monster_job_description['AZURE'] = 0"
   ]
  },
  {
   "cell_type": "code",
   "execution_count": 53,
   "metadata": {},
   "outputs": [
    {
     "data": {
      "text/html": [
       "<div>\n",
       "<style scoped>\n",
       "    .dataframe tbody tr th:only-of-type {\n",
       "        vertical-align: middle;\n",
       "    }\n",
       "\n",
       "    .dataframe tbody tr th {\n",
       "        vertical-align: top;\n",
       "    }\n",
       "\n",
       "    .dataframe thead th {\n",
       "        text-align: right;\n",
       "    }\n",
       "</style>\n",
       "<table border=\"1\" class=\"dataframe\">\n",
       "  <thead>\n",
       "    <tr style=\"text-align: right;\">\n",
       "      <th></th>\n",
       "      <th>job_description</th>\n",
       "      <th>AWS</th>\n",
       "      <th>GCP</th>\n",
       "      <th>AZURE</th>\n",
       "    </tr>\n",
       "  </thead>\n",
       "  <tbody>\n",
       "    <tr>\n",
       "      <th>0</th>\n",
       "      <td>job description :\\r\\n\\r\\njob purpose:\\r\\nwe ar...</td>\n",
       "      <td>0</td>\n",
       "      <td>0</td>\n",
       "      <td>0</td>\n",
       "    </tr>\n",
       "    <tr>\n",
       "      <th>1</th>\n",
       "      <td>job description :\\r\\njob summary\\r\\ndescriptio...</td>\n",
       "      <td>0</td>\n",
       "      <td>0</td>\n",
       "      <td>0</td>\n",
       "    </tr>\n",
       "    <tr>\n",
       "      <th>2</th>\n",
       "      <td>responsibilities:\\r\\nprovide helpdesk support ...</td>\n",
       "      <td>0</td>\n",
       "      <td>0</td>\n",
       "      <td>0</td>\n",
       "    </tr>\n",
       "    <tr>\n",
       "      <th>3</th>\n",
       "      <td>key responsibilities\\r\\nperforms all standard ...</td>\n",
       "      <td>0</td>\n",
       "      <td>0</td>\n",
       "      <td>0</td>\n",
       "    </tr>\n",
       "    <tr>\n",
       "      <th>4</th>\n",
       "      <td>has developed specialized skills or is multi-s...</td>\n",
       "      <td>0</td>\n",
       "      <td>0</td>\n",
       "      <td>0</td>\n",
       "    </tr>\n",
       "  </tbody>\n",
       "</table>\n",
       "</div>"
      ],
      "text/plain": [
       "                                     job_description  AWS  GCP  AZURE\n",
       "0  job description :\\r\\n\\r\\njob purpose:\\r\\nwe ar...    0    0      0\n",
       "1  job description :\\r\\njob summary\\r\\ndescriptio...    0    0      0\n",
       "2  responsibilities:\\r\\nprovide helpdesk support ...    0    0      0\n",
       "3  key responsibilities\\r\\nperforms all standard ...    0    0      0\n",
       "4  has developed specialized skills or is multi-s...    0    0      0"
      ]
     },
     "execution_count": 53,
     "metadata": {},
     "output_type": "execute_result"
    }
   ],
   "source": [
    "monster_job_description.head()"
   ]
  },
  {
   "cell_type": "code",
   "execution_count": 54,
   "metadata": {},
   "outputs": [],
   "source": [
    "for i, row in monster_job_description.iterrows():\n",
    "    if \"aws\" in row['job_description'] or \"amazon web services\" in row['job_description']:\n",
    "        monster_job_description.at[i,'AWS'] = 1\n",
    "    if \"google cloud platform\" in row['job_description'] or \"gcp\" in row['job_description']:\n",
    "        monster_job_description.at[i,'GCP'] = 1\n",
    "    if \"azure\" in row['job_description']:\n",
    "        monster_job_description.at[i,'AZURE'] = 1"
   ]
  },
  {
   "cell_type": "code",
   "execution_count": 55,
   "metadata": {},
   "outputs": [
    {
     "data": {
      "text/html": [
       "<div>\n",
       "<style scoped>\n",
       "    .dataframe tbody tr th:only-of-type {\n",
       "        vertical-align: middle;\n",
       "    }\n",
       "\n",
       "    .dataframe tbody tr th {\n",
       "        vertical-align: top;\n",
       "    }\n",
       "\n",
       "    .dataframe thead th {\n",
       "        text-align: right;\n",
       "    }\n",
       "</style>\n",
       "<table border=\"1\" class=\"dataframe\">\n",
       "  <thead>\n",
       "    <tr style=\"text-align: right;\">\n",
       "      <th></th>\n",
       "      <th>job_description</th>\n",
       "      <th>AWS</th>\n",
       "      <th>GCP</th>\n",
       "      <th>AZURE</th>\n",
       "    </tr>\n",
       "  </thead>\n",
       "  <tbody>\n",
       "    <tr>\n",
       "      <th>0</th>\n",
       "      <td>job description :\\r\\n\\r\\njob purpose:\\r\\nwe ar...</td>\n",
       "      <td>1</td>\n",
       "      <td>1</td>\n",
       "      <td>0</td>\n",
       "    </tr>\n",
       "    <tr>\n",
       "      <th>1</th>\n",
       "      <td>job description :\\r\\njob summary\\r\\ndescriptio...</td>\n",
       "      <td>1</td>\n",
       "      <td>1</td>\n",
       "      <td>1</td>\n",
       "    </tr>\n",
       "    <tr>\n",
       "      <th>2</th>\n",
       "      <td>responsibilities:\\r\\nprovide helpdesk support ...</td>\n",
       "      <td>0</td>\n",
       "      <td>0</td>\n",
       "      <td>0</td>\n",
       "    </tr>\n",
       "    <tr>\n",
       "      <th>3</th>\n",
       "      <td>key responsibilities\\r\\nperforms all standard ...</td>\n",
       "      <td>0</td>\n",
       "      <td>0</td>\n",
       "      <td>0</td>\n",
       "    </tr>\n",
       "    <tr>\n",
       "      <th>4</th>\n",
       "      <td>has developed specialized skills or is multi-s...</td>\n",
       "      <td>0</td>\n",
       "      <td>0</td>\n",
       "      <td>0</td>\n",
       "    </tr>\n",
       "    <tr>\n",
       "      <th>...</th>\n",
       "      <td>...</td>\n",
       "      <td>...</td>\n",
       "      <td>...</td>\n",
       "      <td>...</td>\n",
       "    </tr>\n",
       "    <tr>\n",
       "      <th>8410</th>\n",
       "      <td>job description:\\r\\nresponsible for overall pl...</td>\n",
       "      <td>0</td>\n",
       "      <td>1</td>\n",
       "      <td>0</td>\n",
       "    </tr>\n",
       "    <tr>\n",
       "      <th>8411</th>\n",
       "      <td>job description:\\r\\nthe senior developer, it p...</td>\n",
       "      <td>0</td>\n",
       "      <td>0</td>\n",
       "      <td>0</td>\n",
       "    </tr>\n",
       "    <tr>\n",
       "      <th>8412</th>\n",
       "      <td>location: paya lebar\\r\\nworking hours:   ( shi...</td>\n",
       "      <td>0</td>\n",
       "      <td>0</td>\n",
       "      <td>0</td>\n",
       "    </tr>\n",
       "    <tr>\n",
       "      <th>8413</th>\n",
       "      <td>as a director, you will be responsible for man...</td>\n",
       "      <td>0</td>\n",
       "      <td>0</td>\n",
       "      <td>0</td>\n",
       "    </tr>\n",
       "    <tr>\n",
       "      <th>8414</th>\n",
       "      <td>about the company\\r\\nour client is a market le...</td>\n",
       "      <td>0</td>\n",
       "      <td>0</td>\n",
       "      <td>0</td>\n",
       "    </tr>\n",
       "  </tbody>\n",
       "</table>\n",
       "<p>8415 rows × 4 columns</p>\n",
       "</div>"
      ],
      "text/plain": [
       "                                        job_description  AWS  GCP  AZURE\n",
       "0     job description :\\r\\n\\r\\njob purpose:\\r\\nwe ar...    1    1      0\n",
       "1     job description :\\r\\njob summary\\r\\ndescriptio...    1    1      1\n",
       "2     responsibilities:\\r\\nprovide helpdesk support ...    0    0      0\n",
       "3     key responsibilities\\r\\nperforms all standard ...    0    0      0\n",
       "4     has developed specialized skills or is multi-s...    0    0      0\n",
       "...                                                 ...  ...  ...    ...\n",
       "8410  job description:\\r\\nresponsible for overall pl...    0    1      0\n",
       "8411  job description:\\r\\nthe senior developer, it p...    0    0      0\n",
       "8412  location: paya lebar\\r\\nworking hours:   ( shi...    0    0      0\n",
       "8413  as a director, you will be responsible for man...    0    0      0\n",
       "8414  about the company\\r\\nour client is a market le...    0    0      0\n",
       "\n",
       "[8415 rows x 4 columns]"
      ]
     },
     "execution_count": 55,
     "metadata": {},
     "output_type": "execute_result"
    }
   ],
   "source": [
    "monster_job_description"
   ]
  }
 ],
 "metadata": {
  "kernelspec": {
   "display_name": "Python 3",
   "language": "python",
   "name": "python3"
  },
  "language_info": {
   "codemirror_mode": {
    "name": "ipython",
    "version": 3
   },
   "file_extension": ".py",
   "mimetype": "text/x-python",
   "name": "python",
   "nbconvert_exporter": "python",
   "pygments_lexer": "ipython3",
   "version": "3.9.12"
  }
 },
 "nbformat": 4,
 "nbformat_minor": 5
}
