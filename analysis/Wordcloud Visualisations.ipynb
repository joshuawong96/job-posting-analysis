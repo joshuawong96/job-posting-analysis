{
 "cells": [
  {
   "cell_type": "markdown",
   "id": "0dbef0cb",
   "metadata": {},
   "source": [
    "# Wordcloud Visualisations"
   ]
  },
  {
   "cell_type": "markdown",
   "id": "aa547412",
   "metadata": {},
   "source": [
    "- I believe this will be meant for the job descriptions?"
   ]
  },
  {
   "cell_type": "code",
   "execution_count": null,
   "id": "dc8465d5",
   "metadata": {},
   "outputs": [],
   "source": [
    "import pandas as pd"
   ]
  },
  {
   "cell_type": "code",
   "execution_count": null,
   "id": "6f64ebfa",
   "metadata": {},
   "outputs": [],
   "source": [
    "df = pd.read_csv('./Posts_MonsterSg.csv')"
   ]
  }
 ],
 "metadata": {
  "kernelspec": {
   "display_name": "Python 3 (ipykernel)",
   "language": "python",
   "name": "python3"
  },
  "language_info": {
   "codemirror_mode": {
    "name": "ipython",
    "version": 3
   },
   "file_extension": ".py",
   "mimetype": "text/x-python",
   "name": "python",
   "nbconvert_exporter": "python",
   "pygments_lexer": "ipython3",
   "version": "3.8.8"
  }
 },
 "nbformat": 4,
 "nbformat_minor": 5
}
