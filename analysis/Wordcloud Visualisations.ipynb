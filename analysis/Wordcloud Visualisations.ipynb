{
 "cells": [
  {
   "cell_type": "markdown",
   "id": "770ffc50",
   "metadata": {},
   "source": [
    "# Wordcloud Visualisations"
   ]
  },
  {
   "cell_type": "code",
   "execution_count": null,
   "id": "c942e06d",
   "metadata": {},
   "outputs": [],
   "source": [
    "import pandas as pd"
   ]
  },
  {
   "cell_type": "code",
   "execution_count": null,
   "id": "abd95cb5",
   "metadata": {},
   "outputs": [],
   "source": [
    "#Load Data\n",
    "\n",
    "df = pd.read_csv('./Posts_MonsterSg.csv')"
   ]
  },
  {
   "cell_type": "markdown",
   "id": "791b1d40",
   "metadata": {},
   "source": [
    "# Wordcloud"
   ]
  },
  {
   "cell_type": "code",
   "execution_count": null,
   "id": "b5ed736d",
   "metadata": {},
   "outputs": [],
   "source": [
    "from wordcloud import WordCloud, STOPWORDS\n",
    "import matplotlib.pyplot as plt"
   ]
  },
  {
   "cell_type": "code",
   "execution_count": null,
   "id": "88025fab",
   "metadata": {},
   "outputs": [],
   "source": [
    "text_joined = \" \".join(one_row for one_row in df['text'])"
   ]
  },
  {
   "cell_type": "code",
   "execution_count": null,
   "id": "d311a540",
   "metadata": {},
   "outputs": [],
   "source": [
    "# Create and generate a word cloud image:\n",
    "wordcloud = WordCloud(stopwords=STOPWORDS, background_color=\"white\", width=1500, height=800).generate(text_joined)\n",
    "\n",
    "# Display the generated image:\n",
    "plt.imshow(wordcloud, interpolation='bilinear')\n",
    "plt.axis(\"off\")\n",
    "plt.show()\n",
    "\n"
   ]
  }
 ],
 "metadata": {
  "kernelspec": {
   "display_name": "Python 3 (ipykernel)",
   "language": "python",
   "name": "python3"
  },
  "language_info": {
   "codemirror_mode": {
    "name": "ipython",
    "version": 3
   },
   "file_extension": ".py",
   "mimetype": "text/x-python",
   "name": "python",
   "nbconvert_exporter": "python",
   "pygments_lexer": "ipython3",
   "version": "3.8.8"
  }
 },
 "nbformat": 4,
 "nbformat_minor": 5
}
