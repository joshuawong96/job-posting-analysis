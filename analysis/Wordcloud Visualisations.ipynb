{
 "cells": [
  {
   "cell_type": "markdown",
   "id": "d213fe05",
   "metadata": {},
   "source": [
    "# Wordcloud Visualisations"
   ]
  },
  {
   "cell_type": "code",
   "execution_count": null,
   "id": "a8b382a1",
   "metadata": {},
   "outputs": [],
   "source": [
    "import pandas as pd"
   ]
  },
  {
   "cell_type": "code",
   "execution_count": null,
   "id": "79f9f4ad",
   "metadata": {},
   "outputs": [],
   "source": [
    "df = pd.read_csv('./Posts_MonsterSg.csv')"
   ]
  },
  {
   "cell_type": "markdown",
   "id": "9bfdd846",
   "metadata": {},
   "source": [
    "# Wordcloud"
   ]
  },
  {
   "cell_type": "code",
   "execution_count": null,
   "id": "99b6a9ec",
   "metadata": {},
   "outputs": [],
   "source": [
    "from wordcloud import WordCloud, STOPWORDS\n",
    "import matplotlib.pyplot as plt"
   ]
  },
  {
   "cell_type": "code",
   "execution_count": null,
   "id": "e3b4be61",
   "metadata": {},
   "outputs": [],
   "source": [
    "text_joined = \" \".join(one_row for one_row in df['text'])"
   ]
  },
  {
   "cell_type": "code",
   "execution_count": null,
   "id": "a8f717ea",
   "metadata": {},
   "outputs": [],
   "source": [
    "# Create and generate a word cloud image:\n",
    "wordcloud = WordCloud(stopwords=STOPWORDS, background_color=\"white\", width=1500, height=800).generate(text_joined)\n",
    "\n",
    "# Display the generated image:\n",
    "plt.imshow(wordcloud, interpolation='bilinear')\n",
    "plt.axis(\"off\")\n",
    "plt.show()\n",
    "\n"
   ]
  }
 ],
 "metadata": {
  "kernelspec": {
   "display_name": "Python 3 (ipykernel)",
   "language": "python",
   "name": "python3"
  },
  "language_info": {
   "codemirror_mode": {
    "name": "ipython",
    "version": 3
   },
   "file_extension": ".py",
   "mimetype": "text/x-python",
   "name": "python",
   "nbconvert_exporter": "python",
   "pygments_lexer": "ipython3",
   "version": "3.8.8"
  }
 },
 "nbformat": 4,
 "nbformat_minor": 5
}
