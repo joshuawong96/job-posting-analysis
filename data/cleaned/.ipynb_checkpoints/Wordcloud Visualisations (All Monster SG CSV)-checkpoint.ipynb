{
 "cells": [
  {
   "cell_type": "markdown",
   "id": "770ffc50",
   "metadata": {},
   "source": [
    "# Wordcloud Visualisations"
   ]
  },
  {
   "cell_type": "code",
   "execution_count": 2,
   "id": "085c747a",
   "metadata": {},
   "outputs": [
    {
     "ename": "FileNotFoundError",
     "evalue": "[WinError 3] The system cannot find the path specified: 'C:\\\\Users\\\\Darren\\\\Documents\\\\GitHub\\\\job-posting-analysis\\\\data\\\\cleaned\\\\cleaned'",
     "output_type": "error",
     "traceback": [
      "\u001b[1;31m---------------------------------------------------------------------------\u001b[0m",
      "\u001b[1;31mFileNotFoundError\u001b[0m                         Traceback (most recent call last)",
      "\u001b[1;32m~\\AppData\\Local\\Temp/ipykernel_24724/2329642501.py\u001b[0m in \u001b[0;36m<module>\u001b[1;34m\u001b[0m\n\u001b[0;32m      2\u001b[0m \u001b[1;32mimport\u001b[0m \u001b[0mpandas\u001b[0m \u001b[1;32mas\u001b[0m \u001b[0mpd\u001b[0m\u001b[1;33m\u001b[0m\u001b[1;33m\u001b[0m\u001b[0m\n\u001b[0;32m      3\u001b[0m \u001b[0mcwd\u001b[0m \u001b[1;33m=\u001b[0m \u001b[0mos\u001b[0m\u001b[1;33m.\u001b[0m\u001b[0mpath\u001b[0m\u001b[1;33m.\u001b[0m\u001b[0mabspath\u001b[0m\u001b[1;33m(\u001b[0m\u001b[1;34m'cleaned'\u001b[0m\u001b[1;33m)\u001b[0m\u001b[1;33m\u001b[0m\u001b[1;33m\u001b[0m\u001b[0m\n\u001b[1;32m----> 4\u001b[1;33m \u001b[0mfiles\u001b[0m \u001b[1;33m=\u001b[0m \u001b[0mos\u001b[0m\u001b[1;33m.\u001b[0m\u001b[0mlistdir\u001b[0m\u001b[1;33m(\u001b[0m\u001b[0mcwd\u001b[0m\u001b[1;33m)\u001b[0m\u001b[1;33m\u001b[0m\u001b[1;33m\u001b[0m\u001b[0m\n\u001b[0m",
      "\u001b[1;31mFileNotFoundError\u001b[0m: [WinError 3] The system cannot find the path specified: 'C:\\\\Users\\\\Darren\\\\Documents\\\\GitHub\\\\job-posting-analysis\\\\data\\\\cleaned\\\\cleaned'"
     ]
    }
   ],
   "source": [
    "import os\n",
    "import pandas as pd\n"
   ]
  },
  {
   "cell_type": "code",
   "execution_count": 3,
   "id": "abd95cb5",
   "metadata": {},
   "outputs": [],
   "source": [
    "#Load Data\n",
    "\n",
    "df = pd.read_csv('All_MonsterSg.csv')"
   ]
  },
  {
   "cell_type": "code",
   "execution_count": 5,
   "id": "f81d5b16",
   "metadata": {},
   "outputs": [
    {
     "data": {
      "text/html": [
       "<div>\n",
       "<style scoped>\n",
       "    .dataframe tbody tr th:only-of-type {\n",
       "        vertical-align: middle;\n",
       "    }\n",
       "\n",
       "    .dataframe tbody tr th {\n",
       "        vertical-align: top;\n",
       "    }\n",
       "\n",
       "    .dataframe thead th {\n",
       "        text-align: right;\n",
       "    }\n",
       "</style>\n",
       "<table border=\"1\" class=\"dataframe\">\n",
       "  <thead>\n",
       "    <tr style=\"text-align: right;\">\n",
       "      <th></th>\n",
       "      <th>job_title</th>\n",
       "      <th>company</th>\n",
       "      <th>salary</th>\n",
       "      <th>job_type</th>\n",
       "      <th>years_experience</th>\n",
       "      <th>tech_stack</th>\n",
       "      <th>job_description</th>\n",
       "      <th>industry</th>\n",
       "      <th>function</th>\n",
       "      <th>roles</th>\n",
       "      <th>date_posted</th>\n",
       "      <th>url</th>\n",
       "    </tr>\n",
       "  </thead>\n",
       "  <tbody>\n",
       "    <tr>\n",
       "      <th>0</th>\n",
       "      <td>Senior Python Developer</td>\n",
       "      <td>Citi</td>\n",
       "      <td>NaN</td>\n",
       "      <td>permanent</td>\n",
       "      <td>NaN</td>\n",
       "      <td>NaN</td>\n",
       "      <td>Job Description :\\r\\n\\r\\nJob Purpose:\\r\\nWe ar...</td>\n",
       "      <td>['Banking/Accounting/Financial Services']</td>\n",
       "      <td>['IT']</td>\n",
       "      <td>['Software Engineer/Programmer']</td>\n",
       "      <td>2022-02-18</td>\n",
       "      <td>https://www.monster.com.sg/seeker/job-details?...</td>\n",
       "    </tr>\n",
       "    <tr>\n",
       "      <th>1</th>\n",
       "      <td>Senior Partner Solutions Architect (Microsoft)</td>\n",
       "      <td>Amazon</td>\n",
       "      <td>NaN</td>\n",
       "      <td>permanent</td>\n",
       "      <td>NaN</td>\n",
       "      <td>NaN</td>\n",
       "      <td>Job Description :\\r\\nJob summary\\r\\nDESCRIPTIO...</td>\n",
       "      <td>['Internet/E-commerce']</td>\n",
       "      <td>['IT']</td>\n",
       "      <td>['Software Engineer/Programmer']</td>\n",
       "      <td>2022-02-18</td>\n",
       "      <td>https://www.monster.com.sg/seeker/job-details?...</td>\n",
       "    </tr>\n",
       "    <tr>\n",
       "      <th>2</th>\n",
       "      <td>IT Technician</td>\n",
       "      <td>Ascend Com Pte. Ltd.</td>\n",
       "      <td>['24000', '36000']</td>\n",
       "      <td>permanent</td>\n",
       "      <td>['2', '5']</td>\n",
       "      <td>['Switches', 'Mac', 'Windows 10', 'Cloud Compu...</td>\n",
       "      <td>Responsibilities:\\r\\nProvide helpdesk support ...</td>\n",
       "      <td>['Other']</td>\n",
       "      <td>['IT']</td>\n",
       "      <td>['Other Software/Hardware/EDP']</td>\n",
       "      <td>2022-02-19</td>\n",
       "      <td>https://www.monster.com.sg/seeker/job-details?...</td>\n",
       "    </tr>\n",
       "    <tr>\n",
       "      <th>3</th>\n",
       "      <td>Customer Engineer</td>\n",
       "      <td>Applied Materials South East Asia Pte. Ltd.</td>\n",
       "      <td>['42000', '84000']</td>\n",
       "      <td>permanent</td>\n",
       "      <td>['2', '5']</td>\n",
       "      <td>['Scalability', 'Cloud Computing', 'Google Clo...</td>\n",
       "      <td>Key Responsibilities\\r\\nPerforms all standard ...</td>\n",
       "      <td>['Other']</td>\n",
       "      <td>['Manufacturing/Engineering/R&amp;D']</td>\n",
       "      <td>['Other Production/Engineering/R&amp;D']</td>\n",
       "      <td>2022-02-19</td>\n",
       "      <td>https://www.monster.com.sg/seeker/job-details?...</td>\n",
       "    </tr>\n",
       "    <tr>\n",
       "      <th>4</th>\n",
       "      <td>Customer Engineer</td>\n",
       "      <td>Applied Materials South East Asia Pte. Ltd.</td>\n",
       "      <td>['46800', '93600']</td>\n",
       "      <td>permanent</td>\n",
       "      <td>['2', '5']</td>\n",
       "      <td>['Scalability', 'Cloud Computing', 'Google Clo...</td>\n",
       "      <td>Has developed specialized skills or is multi-s...</td>\n",
       "      <td>['Other']</td>\n",
       "      <td>['Manufacturing/Engineering/R&amp;D']</td>\n",
       "      <td>['Other Production/Engineering/R&amp;D']</td>\n",
       "      <td>2022-02-19</td>\n",
       "      <td>https://www.monster.com.sg/seeker/job-details?...</td>\n",
       "    </tr>\n",
       "  </tbody>\n",
       "</table>\n",
       "</div>"
      ],
      "text/plain": [
       "                                        job_title  \\\n",
       "0                         Senior Python Developer   \n",
       "1  Senior Partner Solutions Architect (Microsoft)   \n",
       "2                                   IT Technician   \n",
       "3                               Customer Engineer   \n",
       "4                               Customer Engineer   \n",
       "\n",
       "                                       company              salary   job_type  \\\n",
       "0                                         Citi                 NaN  permanent   \n",
       "1                                       Amazon                 NaN  permanent   \n",
       "2                         Ascend Com Pte. Ltd.  ['24000', '36000']  permanent   \n",
       "3  Applied Materials South East Asia Pte. Ltd.  ['42000', '84000']  permanent   \n",
       "4  Applied Materials South East Asia Pte. Ltd.  ['46800', '93600']  permanent   \n",
       "\n",
       "  years_experience                                         tech_stack  \\\n",
       "0              NaN                                                NaN   \n",
       "1              NaN                                                NaN   \n",
       "2       ['2', '5']  ['Switches', 'Mac', 'Windows 10', 'Cloud Compu...   \n",
       "3       ['2', '5']  ['Scalability', 'Cloud Computing', 'Google Clo...   \n",
       "4       ['2', '5']  ['Scalability', 'Cloud Computing', 'Google Clo...   \n",
       "\n",
       "                                     job_description  \\\n",
       "0  Job Description :\\r\\n\\r\\nJob Purpose:\\r\\nWe ar...   \n",
       "1  Job Description :\\r\\nJob summary\\r\\nDESCRIPTIO...   \n",
       "2  Responsibilities:\\r\\nProvide helpdesk support ...   \n",
       "3  Key Responsibilities\\r\\nPerforms all standard ...   \n",
       "4  Has developed specialized skills or is multi-s...   \n",
       "\n",
       "                                    industry  \\\n",
       "0  ['Banking/Accounting/Financial Services']   \n",
       "1                    ['Internet/E-commerce']   \n",
       "2                                  ['Other']   \n",
       "3                                  ['Other']   \n",
       "4                                  ['Other']   \n",
       "\n",
       "                            function                                 roles  \\\n",
       "0                             ['IT']      ['Software Engineer/Programmer']   \n",
       "1                             ['IT']      ['Software Engineer/Programmer']   \n",
       "2                             ['IT']       ['Other Software/Hardware/EDP']   \n",
       "3  ['Manufacturing/Engineering/R&D']  ['Other Production/Engineering/R&D']   \n",
       "4  ['Manufacturing/Engineering/R&D']  ['Other Production/Engineering/R&D']   \n",
       "\n",
       "  date_posted                                                url  \n",
       "0  2022-02-18  https://www.monster.com.sg/seeker/job-details?...  \n",
       "1  2022-02-18  https://www.monster.com.sg/seeker/job-details?...  \n",
       "2  2022-02-19  https://www.monster.com.sg/seeker/job-details?...  \n",
       "3  2022-02-19  https://www.monster.com.sg/seeker/job-details?...  \n",
       "4  2022-02-19  https://www.monster.com.sg/seeker/job-details?...  "
      ]
     },
     "execution_count": 5,
     "metadata": {},
     "output_type": "execute_result"
    }
   ],
   "source": [
    "df.head()"
   ]
  },
  {
   "cell_type": "markdown",
   "id": "791b1d40",
   "metadata": {},
   "source": [
    "# Wordcloud"
   ]
  },
  {
   "cell_type": "code",
   "execution_count": null,
   "id": "b5ed736d",
   "metadata": {},
   "outputs": [],
   "source": [
    "from wordcloud import WordCloud, STOPWORDS\n",
    "import matplotlib.pyplot as plt"
   ]
  },
  {
   "cell_type": "code",
   "execution_count": null,
   "id": "88025fab",
   "metadata": {},
   "outputs": [],
   "source": [
    "text_joined = \" \".join(one_row for one_row in df['text'])"
   ]
  },
  {
   "cell_type": "code",
   "execution_count": null,
   "id": "d311a540",
   "metadata": {},
   "outputs": [],
   "source": [
    "# Create and generate a word cloud image:\n",
    "wordcloud = WordCloud(stopwords=STOPWORDS, background_color=\"white\", width=1500, height=800).generate(text_joined)\n",
    "\n",
    "# Display the generated image:\n",
    "plt.imshow(wordcloud, interpolation='bilinear')\n",
    "plt.axis(\"off\")\n",
    "plt.show()\n",
    "\n"
   ]
  }
 ],
 "metadata": {
  "kernelspec": {
   "display_name": "Python 3 (ipykernel)",
   "language": "python",
   "name": "python3"
  },
  "language_info": {
   "codemirror_mode": {
    "name": "ipython",
    "version": 3
   },
   "file_extension": ".py",
   "mimetype": "text/x-python",
   "name": "python",
   "nbconvert_exporter": "python",
   "pygments_lexer": "ipython3",
   "version": "3.8.8"
  }
 },
 "nbformat": 4,
 "nbformat_minor": 5
}
